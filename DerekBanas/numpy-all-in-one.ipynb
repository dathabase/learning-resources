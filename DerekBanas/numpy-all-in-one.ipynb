{
 "cells": [
  {
   "cell_type": "markdown",
   "metadata": {},
   "source": [
    "# Numpy Tutorial (One Shot)\n",
    "---"
   ]
  },
  {
   "cell_type": "code",
   "execution_count": 2,
   "metadata": {},
   "outputs": [],
   "source": [
    "import numpy as np\n",
    "import matplotlib.pylab as plt"
   ]
  },
  {
   "cell_type": "markdown",
   "metadata": {},
   "source": [
    ">#### Creating Arrays"
   ]
  },
  {
   "cell_type": "code",
   "execution_count": 13,
   "metadata": {},
   "outputs": [
    {
     "data": {
      "text/plain": [
       "array([[1., 1., 1.],\n",
       "       [1., 1., 1.]])"
      ]
     },
     "execution_count": 13,
     "metadata": {},
     "output_type": "execute_result"
    }
   ],
   "source": [
    "# creating a numpy array from a python list and specifying data type\n",
    "py_list = [1,2,3,4,5]\n",
    "np_arr_1 = np.array(py_list, dtype=np.int8)\n",
    "np_arr_1\n",
    "\n",
    "# creating a range of values in array with step=2\n",
    "np.arange(1,10,2)\n",
    "\n",
    "# creating 6 equally spaced values between 0 and 5\n",
    "np.linspace(0,5,6)\n",
    "\n",
    "# creating a list of zeros/ones\n",
    "np.zeros(5)\n",
    "np.zeros((2,3))\n",
    "np.ones(5)\n",
    "np.ones((2,3))"
   ]
  },
  {
   "cell_type": "code",
   "execution_count": 27,
   "metadata": {},
   "outputs": [
    {
     "data": {
      "text/plain": [
       "array([[5, 3, 1],\n",
       "       [8, 4, 8],\n",
       "       [1, 3, 6]])"
      ]
     },
     "execution_count": 27,
     "metadata": {},
     "output_type": "execute_result"
    }
   ],
   "source": [
    "# returns the dimension of array (rows, cols)\n",
    "np_arr_1.shape\n",
    "\n",
    "# returns number of elements inside an array\n",
    "np_arr_1.size\n",
    "\n",
    "# returns data type of each element\n",
    "np_arr_1.dtype\n",
    "\n",
    "# generate random arrays single/multi-dimentional\n",
    "np.random.randint(1, 10, 4)\n",
    "np.random.randint(1, 10, size=(3,3))"
   ]
  },
  {
   "cell_type": "markdown",
   "metadata": {},
   "source": [
    ">#### Slicing and Indexes"
   ]
  },
  {
   "cell_type": "code",
   "execution_count": 49,
   "metadata": {},
   "outputs": [
    {
     "data": {
      "text/plain": [
       "array([[4, 2, 1],\n",
       "       [6, 4, 7],\n",
       "       [4, 0, 5]])"
      ]
     },
     "execution_count": 49,
     "metadata": {},
     "output_type": "execute_result"
    }
   ],
   "source": [
    "np_arr_3 = np.random.randint(0, 10, size=(3,3))\n",
    "np_arr_3"
   ]
  },
  {
   "cell_type": "code",
   "execution_count": 69,
   "metadata": {},
   "outputs": [
    {
     "data": {
      "text/plain": [
       "array([-1,  0,  1,  2,  4,  5,  6,  7])"
      ]
     },
     "execution_count": 69,
     "metadata": {},
     "output_type": "execute_result"
    }
   ],
   "source": [
    "# assigning a value at a particular index\n",
    "np_arr_3.itemset((0,0), -1)\n",
    "\n",
    "# get a value from array at a particular index/indices\n",
    "np_arr_3[1,2]\n",
    "np_arr_3.item(1,2)\n",
    "np_arr_3[1:,2]\n",
    "\n",
    "# returns a set of values satisfying condition\n",
    "# even nos\n",
    "np_arr_3[np_arr_3%2 == 0]\n",
    "# greater than 4\n",
    "np_arr_3[np_arr_3 > 4]\n",
    "# greater than 2 and less than equal to 6\n",
    "np_arr_3[(np_arr_3 > 2) & (np_arr_3 <= 6)] \n",
    "\n",
    "# unique values\n",
    "np.unique(np_arr_3)"
   ]
  },
  {
   "cell_type": "markdown",
   "metadata": {},
   "source": [
    ">#### Reshaping, Resizing, Sorting Arrays"
   ]
  },
  {
   "cell_type": "code",
   "execution_count": 85,
   "metadata": {},
   "outputs": [
    {
     "name": "stdout",
     "output_type": "stream",
     "text": [
      "[[-1  0  1]\n",
      " [ 2  4  5]\n",
      " [ 4  6  7]]\n"
     ]
    },
    {
     "data": {
      "text/plain": [
       "array([-1,  2,  4,  0,  4,  6,  1,  5,  7])"
      ]
     },
     "execution_count": 85,
     "metadata": {},
     "output_type": "execute_result"
    }
   ],
   "source": [
    "print(np_arr_3)\n",
    "# reshpaing arrays to a diff dimension\n",
    "np_arr_3.reshape(1,9)\n",
    "np.resize(np_arr_3, (1,9))\n",
    "\n",
    "# transposing/swapping elements\n",
    "np_arr_3.transpose()\n",
    "\n",
    "# flattening array (making it one-dimensional)\n",
    "np_arr_3.flatten()    # by row order\n",
    "np_arr_3.flatten('F') # by col order\n",
    "\n",
    "# sorting by row/col\n",
    "np_arr_3.sort(axis=0)\n",
    "np_arr_3.sort(axis=1)"
   ]
  },
  {
   "cell_type": "markdown",
   "metadata": {},
   "source": [
    ">#### Stacking and Splitting"
   ]
  },
  {
   "cell_type": "code",
   "execution_count": 97,
   "metadata": {},
   "outputs": [],
   "source": [
    "np_zeros = np.zeros(9).reshape(3,3)\n",
    "np_ones = np.ones(9).reshape(3,3)\n"
   ]
  },
  {
   "cell_type": "code",
   "execution_count": 101,
   "metadata": {},
   "outputs": [
    {
     "data": {
      "text/plain": [
       "array([[0., 0., 0., 1., 1., 1.],\n",
       "       [0., 0., 0., 1., 1., 1.],\n",
       "       [0., 0., 0., 1., 1., 1.]])"
      ]
     },
     "execution_count": 101,
     "metadata": {},
     "output_type": "execute_result"
    }
   ],
   "source": [
    "# vertical stacking\n",
    "np.vstack((np_zeros, np_ones))\n",
    "\n",
    "# horizontal stacking\n",
    "np.hstack((np_zeros, np_ones))"
   ]
  },
  {
   "cell_type": "markdown",
   "metadata": {},
   "source": [
    ">#### Basic Math"
   ]
  },
  {
   "cell_type": "code",
   "execution_count": 142,
   "metadata": {},
   "outputs": [
    {
     "data": {
      "text/plain": [
       "array([4, 4, 4, 4], dtype=int64)"
      ]
     },
     "execution_count": 142,
     "metadata": {},
     "output_type": "execute_result"
    }
   ],
   "source": [
    "np_arr_5 = np.arange(0,10)\n",
    "np_arr_6 = np.arange(10,20)\n",
    "np_arr_7 = np.arange( 0,20).reshape(4,5)\n",
    "\n",
    "# basic operations\n",
    "np_arr_5 + np_arr_6\n",
    "np_arr_5 - np_arr_6\n",
    "np_arr_5 * np_arr_6\n",
    "np_arr_5 / np_arr_6\n",
    "\n",
    "# sum of all elements\n",
    "np_arr_5.sum()\n",
    "\n",
    "# sum of values iterating thro rows/cols\n",
    "np_arr_5.reshape(2,5).sum(axis=0)\n",
    "\n",
    "# max value in each row/col\n",
    "np_arr_5.reshape(2,5).max(axis=0)\n",
    "np_arr_5.reshape(2,5).max(axis=1)\n",
    "\n",
    "# returns row index of max value in col\n",
    "np_arr_7.argmax(axis=0)\n",
    "\n",
    "# returns col index of max value in row\n",
    "np_arr_7.argmax(axis=1)"
   ]
  },
  {
   "cell_type": "markdown",
   "metadata": {},
   "source": [
    ">#### Linear Algebra"
   ]
  },
  {
   "cell_type": "code",
   "execution_count": 144,
   "metadata": {},
   "outputs": [],
   "source": [
    "from numpy import linalg as LA"
   ]
  },
  {
   "cell_type": "code",
   "execution_count": 159,
   "metadata": {},
   "outputs": [],
   "source": [
    "np_arr_8 = np.random.randint(0,10, size=(2,2))\n",
    "np_arr_9 = np.random.randint(0,10, size=(2,2))"
   ]
  },
  {
   "cell_type": "code",
   "execution_count": 164,
   "metadata": {},
   "outputs": [
    {
     "name": "stdout",
     "output_type": "stream",
     "text": [
      "x = -2.0, y = 3.0\n"
     ]
    }
   ],
   "source": [
    "# calculating the determinant of a matrix\n",
    "LA.det(np_arr_8)\n",
    "\n",
    "# dot product\n",
    "np.dot(np_arr_8, np_arr_9)\n",
    "\n",
    "# solving linear equations:\n",
    "# x + 4y = 10\n",
    "# 6x + 18y = 42\n",
    "def linear_eq_solver(x_coeff_1, y_coeff_1, value_1, x_coeff_2, y_coeff_2, value_2):\n",
    "    arr_coeff = np.array([[x_coeff_1, y_coeff_1],[x_coeff_2, y_coeff_2]])\n",
    "    arr_values = np.array([value_1, value_2])\n",
    "    return LA.solve(arr_coeff, arr_values)\n",
    "\n",
    "x_value, y_value = linear_eq_solver(1, 4, 10, 6, 18, 42)\n",
    "print(f\"x = {x_value}, y = {y_value}\")"
   ]
  }
 ],
 "metadata": {
  "kernelspec": {
   "display_name": "Python 3.10.2 64-bit (system)",
   "language": "python",
   "name": "python3"
  },
  "language_info": {
   "codemirror_mode": {
    "name": "ipython",
    "version": 3
   },
   "file_extension": ".py",
   "mimetype": "text/x-python",
   "name": "python",
   "nbconvert_exporter": "python",
   "pygments_lexer": "ipython3",
   "version": "3.10.2"
  },
  "orig_nbformat": 4,
  "vscode": {
   "interpreter": {
    "hash": "5312a05d4c1062e7e99dc4a1327331a73c17135ec320657c0e8e8843948bfa85"
   }
  }
 },
 "nbformat": 4,
 "nbformat_minor": 2
}
