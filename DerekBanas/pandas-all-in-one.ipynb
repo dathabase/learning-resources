{
 "cells": [
  {
   "cell_type": "markdown",
   "metadata": {},
   "source": [
    "# Pandas Tutorial (One Shot)\n",
    "---"
   ]
  },
  {
   "cell_type": "code",
   "execution_count": 1,
   "metadata": {},
   "outputs": [],
   "source": [
    "import pandas as pd\n",
    "import numpy as np"
   ]
  },
  {
   "cell_type": "markdown",
   "metadata": {},
   "source": [
    ">#### Creating Series\n",
    "\n",
    "Can create a series using python list, numpy arrays or dictionaries. A range of mathematical can also be applied to modify the series"
   ]
  },
  {
   "cell_type": "code",
   "execution_count": 3,
   "metadata": {},
   "outputs": [
    {
     "data": {
      "text/plain": [
       "0     2.718282\n",
       "1     7.389056\n",
       "2    20.085537\n",
       "3    54.598150\n",
       "dtype: float64"
      ]
     },
     "execution_count": 3,
     "metadata": {},
     "output_type": "execute_result"
    }
   ],
   "source": [
    "# series by python list\n",
    "list_1 = ['a','b','c','d']\n",
    "list_1_labels = [1,2,3,4]\n",
    "series_1 = pd.Series(data=list_1, index=list_1_labels)\n",
    "\n",
    "# series by numpy array\n",
    "np_arr_1 = np.array([1,2,3,4])\n",
    "series_2 = pd.Series(np_arr_1)\n",
    "\n",
    "# series by dict\n",
    "dict_1 = {'name':'ath', 'age':21, 'nationality':'indian'}\n",
    "series_3 = pd.Series(dict_1, name='ath details')\n",
    "series_3.name # returns the series name defined\n",
    "\n",
    "# mathematical operations\n",
    "series_2 + series_2\n",
    "series_2 * series_2\n",
    "np.exp(series_2)"
   ]
  },
  {
   "cell_type": "markdown",
   "metadata": {},
   "source": [
    ">#### Creating Dataframes\n",
    "\n",
    "*`pd.dataframe()` parameters...*\n",
    "- values\n",
    "- row_labels\n",
    "- column_labels"
   ]
  },
  {
   "cell_type": "code",
   "execution_count": 4,
   "metadata": {},
   "outputs": [
    {
     "data": {
      "text/html": [
       "<div>\n",
       "<style scoped>\n",
       "    .dataframe tbody tr th:only-of-type {\n",
       "        vertical-align: middle;\n",
       "    }\n",
       "\n",
       "    .dataframe tbody tr th {\n",
       "        vertical-align: top;\n",
       "    }\n",
       "\n",
       "    .dataframe thead th {\n",
       "        text-align: right;\n",
       "    }\n",
       "</style>\n",
       "<table border=\"1\" class=\"dataframe\">\n",
       "  <thead>\n",
       "    <tr style=\"text-align: right;\">\n",
       "      <th></th>\n",
       "      <th>col1</th>\n",
       "      <th>col2</th>\n",
       "    </tr>\n",
       "  </thead>\n",
       "  <tbody>\n",
       "    <tr>\n",
       "      <th>row1</th>\n",
       "      <td>1.0</td>\n",
       "      <td>1.0</td>\n",
       "    </tr>\n",
       "    <tr>\n",
       "      <th>row2</th>\n",
       "      <td>2.0</td>\n",
       "      <td>2.0</td>\n",
       "    </tr>\n",
       "    <tr>\n",
       "      <th>row3</th>\n",
       "      <td>3.0</td>\n",
       "      <td>3.0</td>\n",
       "    </tr>\n",
       "    <tr>\n",
       "      <th>row4</th>\n",
       "      <td>NaN</td>\n",
       "      <td>4.0</td>\n",
       "    </tr>\n",
       "  </tbody>\n",
       "</table>\n",
       "</div>"
      ],
      "text/plain": [
       "      col1  col2\n",
       "row1   1.0   1.0\n",
       "row2   2.0   2.0\n",
       "row3   3.0   3.0\n",
       "row4   NaN   4.0"
      ]
     },
     "execution_count": 4,
     "metadata": {},
     "output_type": "execute_result"
    }
   ],
   "source": [
    "# array -> dataframe\n",
    "\n",
    "# generate random numbers between 10 and 50 into a array with 3 rows and 3 cols\n",
    "np_arr_2 = np.random.randint(10,50,size=(3,3))\n",
    "df_1 = pd.DataFrame(np_arr_2,['Row1', 'Row2', 'Row3'], ['Col1', 'Col2', 'Col3'])\n",
    "df_1\n",
    "\n",
    "# dictionary -> dataframe\n",
    "dict_2 = { 'col1': pd.Series([1,2,3], index=['row1', 'row2', 'row3']),\n",
    "            'col2': pd.Series([1.,2.,3.,4.], index=['row1', 'row2', 'row3', 'row4'])\n",
    "} \n",
    "df_2 = pd.DataFrame(dict_2)\n",
    "df_2"
   ]
  },
  {
   "cell_type": "markdown",
   "metadata": {},
   "source": [
    ">#### Editing and Retrieving Data\n",
    "\n",
    "- Obtain columns using...\n",
    "    - `dataframe.column_name` OR `dataframe['column_name']`\n",
    "\n",
    "- Obtain rows and/or columns using...\n",
    "    - `dataframe.loc[row_label,column_label]` (can also supply a range of values/index ranges; start and end labels are inclusive)\n",
    "\n",
    "    - `dataframe.iloc[row_index,column_index]` (can also supply a range of values/index ranges; start indexs are inclusive, end labels are exclusive)\n",
    "\n",
    "- Add new columns using `dataframe[<new_column>] = values` and new rows using `dataframe = dataframe.append(<new_row>)`\n",
    "    - Note: If you want the row to be indexed using 0,1,2,3... add `ignore_index=True` in the `dataframe.append()` function\n",
    "    - If you want to name the row manually, specify `name=<new_row_name>` in the `pd.Series()` argument\n",
    "\n",
    "- Delete columns/rows by specifying the row/column name, axis (`axis=0`for deleting rows; `axis=1` for deleting columns) and `inplace=True` in the `dataframe.drop()` argument"
   ]
  },
  {
   "cell_type": "code",
   "execution_count": 5,
   "metadata": {},
   "outputs": [
    {
     "data": {
      "text/plain": [
       "37"
      ]
     },
     "execution_count": 5,
     "metadata": {},
     "output_type": "execute_result"
    }
   ],
   "source": [
    "# get the first column\n",
    "df_1['Col1']\n",
    "df_1.loc[:,'Col1']\n",
    "df_1.iloc[:,0]\n",
    "\n",
    "# get the first row\n",
    "df_1.loc['Row1',:]\n",
    "df_1.iloc[0,:]\n",
    "\n",
    "# get multiple columns\n",
    "df_1[['Col1','Col2']]\n",
    "df_1.loc[:,['Col1', 'Col2']]\n",
    "df_1.iloc[:,0:2]\n",
    "\n",
    "# get rows & columns (by label)\n",
    "df_1.loc['Row1':'Row3', 'Col1':'Col2']\n",
    "df_1.loc[['Row1','Row3'], ['Col1','Col3']]\n",
    "\n",
    "# get rows & columns (by index)\n",
    "df_1.iloc[0:3, 0:3]\n",
    "df_1.iloc[[0,2], [0,2]]\n",
    "\n",
    "df_1.loc['Row1', 'Col2'] # returns a particular value"
   ]
  },
  {
   "cell_type": "code",
   "execution_count": 6,
   "metadata": {},
   "outputs": [
    {
     "data": {
      "text/html": [
       "<div>\n",
       "<style scoped>\n",
       "    .dataframe tbody tr th:only-of-type {\n",
       "        vertical-align: middle;\n",
       "    }\n",
       "\n",
       "    .dataframe tbody tr th {\n",
       "        vertical-align: top;\n",
       "    }\n",
       "\n",
       "    .dataframe thead th {\n",
       "        text-align: right;\n",
       "    }\n",
       "</style>\n",
       "<table border=\"1\" class=\"dataframe\">\n",
       "  <thead>\n",
       "    <tr style=\"text-align: right;\">\n",
       "      <th></th>\n",
       "      <th>Col1</th>\n",
       "      <th>Col2</th>\n",
       "      <th>Col3</th>\n",
       "      <th>Col_Total</th>\n",
       "    </tr>\n",
       "  </thead>\n",
       "  <tbody>\n",
       "    <tr>\n",
       "      <th>Row1</th>\n",
       "      <td>22</td>\n",
       "      <td>37</td>\n",
       "      <td>49</td>\n",
       "      <td>108</td>\n",
       "    </tr>\n",
       "    <tr>\n",
       "      <th>Row2</th>\n",
       "      <td>29</td>\n",
       "      <td>31</td>\n",
       "      <td>20</td>\n",
       "      <td>80</td>\n",
       "    </tr>\n",
       "    <tr>\n",
       "      <th>Row3</th>\n",
       "      <td>36</td>\n",
       "      <td>31</td>\n",
       "      <td>39</td>\n",
       "      <td>106</td>\n",
       "    </tr>\n",
       "    <tr>\n",
       "      <th>Row_Total</th>\n",
       "      <td>87</td>\n",
       "      <td>99</td>\n",
       "      <td>108</td>\n",
       "      <td>294</td>\n",
       "    </tr>\n",
       "  </tbody>\n",
       "</table>\n",
       "</div>"
      ],
      "text/plain": [
       "           Col1  Col2  Col3  Col_Total\n",
       "Row1         22    37    49        108\n",
       "Row2         29    31    20         80\n",
       "Row3         36    31    39        106\n",
       "Row_Total    87    99   108        294"
      ]
     },
     "execution_count": 6,
     "metadata": {},
     "output_type": "execute_result"
    }
   ],
   "source": [
    "# adding a new column\n",
    "df_1['Col_Total'] = df_1['Col1'] + df_1['Col2'] + df_1['Col3']\n",
    "df_1\n",
    "\n",
    "# adding a new row\n",
    "new_row = pd.Series(df_1.loc['Row1'] + df_1.loc['Row2'] + df_1.loc['Row3'], name='Row_Total')\n",
    "df_1 = df_1.append(new_row)\n",
    "df_1"
   ]
  },
  {
   "cell_type": "code",
   "execution_count": 7,
   "metadata": {},
   "outputs": [],
   "source": [
    "# deleting columns\n",
    "df_1.drop('Col_Total', axis=1, inplace=True)\n",
    "\n",
    "# deleting rows\n",
    "df_1.drop('Row_Total', axis=0, inplace=True)"
   ]
  },
  {
   "cell_type": "code",
   "execution_count": 8,
   "metadata": {},
   "outputs": [],
   "source": [
    "# set index\n",
    "df_1['Row_names'] = ['Row1','Row2','Row3']\n",
    "df_1.set_index('Row_names', inplace=True)\n",
    "\n",
    "# reset index\n",
    "df_1.reset_index(inplace=True)\n",
    "df_1.drop('Row_names', axis=1, inplace=True)"
   ]
  },
  {
   "cell_type": "markdown",
   "metadata": {},
   "source": [
    ">#### Conditional Selection"
   ]
  },
  {
   "cell_type": "code",
   "execution_count": 9,
   "metadata": {},
   "outputs": [
    {
     "data": {
      "text/html": [
       "<div>\n",
       "<style scoped>\n",
       "    .dataframe tbody tr th:only-of-type {\n",
       "        vertical-align: middle;\n",
       "    }\n",
       "\n",
       "    .dataframe tbody tr th {\n",
       "        vertical-align: top;\n",
       "    }\n",
       "\n",
       "    .dataframe thead th {\n",
       "        text-align: right;\n",
       "    }\n",
       "</style>\n",
       "<table border=\"1\" class=\"dataframe\">\n",
       "  <thead>\n",
       "    <tr style=\"text-align: right;\">\n",
       "      <th></th>\n",
       "      <th>Col1</th>\n",
       "      <th>Col2</th>\n",
       "      <th>Col3</th>\n",
       "    </tr>\n",
       "  </thead>\n",
       "  <tbody>\n",
       "    <tr>\n",
       "      <th>0</th>\n",
       "      <td>1</td>\n",
       "      <td>8</td>\n",
       "      <td>8</td>\n",
       "    </tr>\n",
       "    <tr>\n",
       "      <th>1</th>\n",
       "      <td>4</td>\n",
       "      <td>9</td>\n",
       "      <td>3</td>\n",
       "    </tr>\n",
       "    <tr>\n",
       "      <th>2</th>\n",
       "      <td>7</td>\n",
       "      <td>5</td>\n",
       "      <td>4</td>\n",
       "    </tr>\n",
       "  </tbody>\n",
       "</table>\n",
       "</div>"
      ],
      "text/plain": [
       "   Col1  Col2  Col3\n",
       "0     1     8     8\n",
       "1     4     9     3\n",
       "2     7     5     4"
      ]
     },
     "execution_count": 9,
     "metadata": {},
     "output_type": "execute_result"
    }
   ],
   "source": [
    "np_arr_3 = np.random.randint(1,10, size=(3,3))\n",
    "df_3 = pd.DataFrame(np_arr_3, index=None, columns=['Col1','Col2','Col3'])\n",
    "df_3"
   ]
  },
  {
   "cell_type": "code",
   "execution_count": 10,
   "metadata": {},
   "outputs": [
    {
     "data": {
      "text/html": [
       "<div>\n",
       "<style scoped>\n",
       "    .dataframe tbody tr th:only-of-type {\n",
       "        vertical-align: middle;\n",
       "    }\n",
       "\n",
       "    .dataframe tbody tr th {\n",
       "        vertical-align: top;\n",
       "    }\n",
       "\n",
       "    .dataframe thead th {\n",
       "        text-align: right;\n",
       "    }\n",
       "</style>\n",
       "<table border=\"1\" class=\"dataframe\">\n",
       "  <thead>\n",
       "    <tr style=\"text-align: right;\">\n",
       "      <th></th>\n",
       "      <th>Col1</th>\n",
       "      <th>Col2</th>\n",
       "      <th>Col3</th>\n",
       "    </tr>\n",
       "  </thead>\n",
       "  <tbody>\n",
       "    <tr>\n",
       "      <th>0</th>\n",
       "      <td>1</td>\n",
       "      <td>8</td>\n",
       "      <td>8</td>\n",
       "    </tr>\n",
       "    <tr>\n",
       "      <th>1</th>\n",
       "      <td>4</td>\n",
       "      <td>9</td>\n",
       "      <td>3</td>\n",
       "    </tr>\n",
       "  </tbody>\n",
       "</table>\n",
       "</div>"
      ],
      "text/plain": [
       "   Col1  Col2  Col3\n",
       "0     1     8     8\n",
       "1     4     9     3"
      ]
     },
     "execution_count": 10,
     "metadata": {},
     "output_type": "execute_result"
    }
   ],
   "source": [
    "# prints the dataframe where the values in first col satisfy the conditional \n",
    "df_3[df_3['Col1'] <= 5]"
   ]
  },
  {
   "cell_type": "markdown",
   "metadata": {},
   "source": [
    ">#### File Input/Output\n",
    "\n",
    "- Pandas can work with...\n",
    "    - .csv files: \n",
    "        - Read = `pd.read_csv(filename)`\n",
    "        - Write = `dataframe.to_csv(filename)`\n",
    "    - .xlsx files: \n",
    "        - Read = `pd.read_excel(filename)`\n",
    "        - Write = `dataframe.to_excel(filename)`\n",
    "\n",
    "    - Databases:\n",
    "        ```\n",
    "        import pymysql\n",
    "        \n",
    "        try:\n",
    "            db_connection = pymysql.connect(db = database_name, user = user_name, passwd = password_name, host = 'localhost', port = port_num <check port num>)\n",
    "            dataframe = pd.read_sql('SELECT * FROM database_name', con=db_connection)\n",
    "            print(database_name)\n",
    "\n",
    "        except Exception as e:\n",
    "            print('Exception {}'.format(e))\n",
    "\n",
    "        finally:\n",
    "            db_connection.close()\n",
    "        ```"
   ]
  },
  {
   "cell_type": "markdown",
   "metadata": {},
   "source": [
    ">#### Dataframe basics\n",
    "\n",
    "- Use `dataframe['column_name'].map()` to transform/modify a series and `dataframe.applymap()` or `dataframe.transform()` transform/modify a dataframe. [Remember to specify the `lambda x: x...` function within the respective brackets]"
   ]
  },
  {
   "cell_type": "code",
   "execution_count": 52,
   "metadata": {},
   "outputs": [],
   "source": [
    "weather_df = pd.read_csv('nyc_weather_data.csv')"
   ]
  },
  {
   "cell_type": "code",
   "execution_count": 233,
   "metadata": {},
   "outputs": [
    {
     "data": {
      "text/html": [
       "<div>\n",
       "<style scoped>\n",
       "    .dataframe tbody tr th:only-of-type {\n",
       "        vertical-align: middle;\n",
       "    }\n",
       "\n",
       "    .dataframe tbody tr th {\n",
       "        vertical-align: top;\n",
       "    }\n",
       "\n",
       "    .dataframe thead th {\n",
       "        text-align: right;\n",
       "    }\n",
       "</style>\n",
       "<table border=\"1\" class=\"dataframe\">\n",
       "  <thead>\n",
       "    <tr style=\"text-align: right;\">\n",
       "      <th></th>\n",
       "      <th>Col1</th>\n",
       "      <th>Col2</th>\n",
       "      <th>Col3</th>\n",
       "    </tr>\n",
       "  </thead>\n",
       "  <tbody>\n",
       "    <tr>\n",
       "      <th>0</th>\n",
       "      <td>5</td>\n",
       "      <td>4</td>\n",
       "      <td>3</td>\n",
       "    </tr>\n",
       "    <tr>\n",
       "      <th>1</th>\n",
       "      <td>7</td>\n",
       "      <td>3</td>\n",
       "      <td>6</td>\n",
       "    </tr>\n",
       "    <tr>\n",
       "      <th>2</th>\n",
       "      <td>10</td>\n",
       "      <td>2</td>\n",
       "      <td>4</td>\n",
       "    </tr>\n",
       "  </tbody>\n",
       "</table>\n",
       "</div>"
      ],
      "text/plain": [
       "   Col1  Col2  Col3\n",
       "0     5     4     3\n",
       "1     7     3     6\n",
       "2    10     2     4"
      ]
     },
     "execution_count": 233,
     "metadata": {},
     "output_type": "execute_result"
    }
   ],
   "source": [
    "weather_df.head() # prints first 5 rows\n",
    "weather_df.tail() # prints last 5 rows\n",
    "\n",
    "# convert to numpy array\n",
    "weather_df.to_numpy()\n",
    "\n",
    "# get all row indices as an array\n",
    "weather_df.index.array \n",
    "\n",
    "# add 1 to all values in a dataframe\n",
    "df_3.transform(lambda x: x+1)\n",
    "\n",
    "# add 2 to all values within 1st column \n",
    "# and subtract 1 from all vlues in second column\n",
    "df_3.transform({'Col1': lambda x: x+2,\n",
    "                'Col2': lambda x: x-1,\n",
    "                'Col3': lambda x: x})"
   ]
  },
  {
   "cell_type": "code",
   "execution_count": 23,
   "metadata": {},
   "outputs": [
    {
     "data": {
      "text/html": [
       "<div>\n",
       "<style scoped>\n",
       "    .dataframe tbody tr th:only-of-type {\n",
       "        vertical-align: middle;\n",
       "    }\n",
       "\n",
       "    .dataframe tbody tr th {\n",
       "        vertical-align: top;\n",
       "    }\n",
       "\n",
       "    .dataframe thead th {\n",
       "        text-align: right;\n",
       "    }\n",
       "</style>\n",
       "<table border=\"1\" class=\"dataframe\">\n",
       "  <thead>\n",
       "    <tr style=\"text-align: right;\">\n",
       "      <th></th>\n",
       "      <th>Col1</th>\n",
       "      <th>Col2</th>\n",
       "      <th>Col3</th>\n",
       "    </tr>\n",
       "  </thead>\n",
       "  <tbody>\n",
       "    <tr>\n",
       "      <th>0</th>\n",
       "      <td>NaN</td>\n",
       "      <td>NaN</td>\n",
       "      <td>NaN</td>\n",
       "    </tr>\n",
       "    <tr>\n",
       "      <th>1</th>\n",
       "      <td>NaN</td>\n",
       "      <td>NaN</td>\n",
       "      <td>NaN</td>\n",
       "    </tr>\n",
       "    <tr>\n",
       "      <th>2</th>\n",
       "      <td>NaN</td>\n",
       "      <td>NaN</td>\n",
       "      <td>NaN</td>\n",
       "    </tr>\n",
       "  </tbody>\n",
       "</table>\n",
       "</div>"
      ],
      "text/plain": [
       "   Col1  Col2  Col3\n",
       "0   NaN   NaN   NaN\n",
       "1   NaN   NaN   NaN\n",
       "2   NaN   NaN   NaN"
      ]
     },
     "execution_count": 23,
     "metadata": {},
     "output_type": "execute_result"
    }
   ],
   "source": [
    "# array of unique values in a particular col/row\n",
    "df_3.loc[:,'Col1'].unique()\n",
    "df_3.loc[0].unique()\n",
    "\n",
    "# number of unique values in a col/row\n",
    "df_3.loc[:,'Col1'].nunique()\n",
    "df_3.loc[0].nunique()\n",
    "\n",
    "# frequency of a value in series (i.e. number of times a value showed up)\n",
    "df_3.loc[:,'Col1'].value_counts()\n",
    "df_3.loc[0].value_counts()\n",
    "\n",
    "# get all the column names in a dataframe\n",
    "df_3.columns\n",
    "\n",
    "# get the index of the dataframe\n",
    "df_3.index"
   ]
  },
  {
   "cell_type": "markdown",
   "metadata": {},
   "source": [
    ">#### Grouping Data"
   ]
  },
  {
   "cell_type": "code",
   "execution_count": 24,
   "metadata": {},
   "outputs": [
    {
     "data": {
      "text/html": [
       "<div>\n",
       "<style scoped>\n",
       "    .dataframe tbody tr th:only-of-type {\n",
       "        vertical-align: middle;\n",
       "    }\n",
       "\n",
       "    .dataframe tbody tr th {\n",
       "        vertical-align: top;\n",
       "    }\n",
       "\n",
       "    .dataframe thead th {\n",
       "        text-align: right;\n",
       "    }\n",
       "</style>\n",
       "<table border=\"1\" class=\"dataframe\">\n",
       "  <thead>\n",
       "    <tr style=\"text-align: right;\">\n",
       "      <th></th>\n",
       "      <th>Store</th>\n",
       "      <th>Flavor</th>\n",
       "      <th>Sales</th>\n",
       "    </tr>\n",
       "  </thead>\n",
       "  <tbody>\n",
       "    <tr>\n",
       "      <th>0</th>\n",
       "      <td>1</td>\n",
       "      <td>Choc</td>\n",
       "      <td>26</td>\n",
       "    </tr>\n",
       "    <tr>\n",
       "      <th>1</th>\n",
       "      <td>2</td>\n",
       "      <td>Van</td>\n",
       "      <td>12</td>\n",
       "    </tr>\n",
       "    <tr>\n",
       "      <th>2</th>\n",
       "      <td>1</td>\n",
       "      <td>Straw</td>\n",
       "      <td>18</td>\n",
       "    </tr>\n",
       "    <tr>\n",
       "      <th>3</th>\n",
       "      <td>2</td>\n",
       "      <td>Choc</td>\n",
       "      <td>22</td>\n",
       "    </tr>\n",
       "  </tbody>\n",
       "</table>\n",
       "</div>"
      ],
      "text/plain": [
       "   Store Flavor  Sales\n",
       "0      1   Choc     26\n",
       "1      2    Van     12\n",
       "2      1  Straw     18\n",
       "3      2   Choc     22"
      ]
     },
     "execution_count": 24,
     "metadata": {},
     "output_type": "execute_result"
    }
   ],
   "source": [
    "dict_3 = {\n",
    "    'Store': [1, 2, 1, 2],\n",
    "    'Flavor': ['Choc','Van','Straw','Choc'],\n",
    "    'Sales': [26, 12, 18, 22]\n",
    "} \n",
    "\n",
    "df_4 = pd.DataFrame(dict_3)"
   ]
  },
  {
   "cell_type": "code",
   "execution_count": 36,
   "metadata": {},
   "outputs": [
    {
     "data": {
      "text/html": [
       "<div>\n",
       "<style scoped>\n",
       "    .dataframe tbody tr th:only-of-type {\n",
       "        vertical-align: middle;\n",
       "    }\n",
       "\n",
       "    .dataframe tbody tr th {\n",
       "        vertical-align: top;\n",
       "    }\n",
       "\n",
       "    .dataframe thead tr th {\n",
       "        text-align: left;\n",
       "    }\n",
       "\n",
       "    .dataframe thead tr:last-of-type th {\n",
       "        text-align: right;\n",
       "    }\n",
       "</style>\n",
       "<table border=\"1\" class=\"dataframe\">\n",
       "  <thead>\n",
       "    <tr>\n",
       "      <th></th>\n",
       "      <th colspan=\"8\" halign=\"left\">Sales</th>\n",
       "    </tr>\n",
       "    <tr>\n",
       "      <th></th>\n",
       "      <th>count</th>\n",
       "      <th>mean</th>\n",
       "      <th>std</th>\n",
       "      <th>min</th>\n",
       "      <th>25%</th>\n",
       "      <th>50%</th>\n",
       "      <th>75%</th>\n",
       "      <th>max</th>\n",
       "    </tr>\n",
       "    <tr>\n",
       "      <th>Store</th>\n",
       "      <th></th>\n",
       "      <th></th>\n",
       "      <th></th>\n",
       "      <th></th>\n",
       "      <th></th>\n",
       "      <th></th>\n",
       "      <th></th>\n",
       "      <th></th>\n",
       "    </tr>\n",
       "  </thead>\n",
       "  <tbody>\n",
       "    <tr>\n",
       "      <th>1</th>\n",
       "      <td>2.0</td>\n",
       "      <td>22.0</td>\n",
       "      <td>5.656854</td>\n",
       "      <td>18.0</td>\n",
       "      <td>20.0</td>\n",
       "      <td>22.0</td>\n",
       "      <td>24.0</td>\n",
       "      <td>26.0</td>\n",
       "    </tr>\n",
       "    <tr>\n",
       "      <th>2</th>\n",
       "      <td>2.0</td>\n",
       "      <td>17.0</td>\n",
       "      <td>7.071068</td>\n",
       "      <td>12.0</td>\n",
       "      <td>14.5</td>\n",
       "      <td>17.0</td>\n",
       "      <td>19.5</td>\n",
       "      <td>22.0</td>\n",
       "    </tr>\n",
       "  </tbody>\n",
       "</table>\n",
       "</div>"
      ],
      "text/plain": [
       "      Sales                                              \n",
       "      count  mean       std   min   25%   50%   75%   max\n",
       "Store                                                    \n",
       "1       2.0  22.0  5.656854  18.0  20.0  22.0  24.0  26.0\n",
       "2       2.0  17.0  7.071068  12.0  14.5  17.0  19.5  22.0"
      ]
     },
     "execution_count": 36,
     "metadata": {},
     "output_type": "execute_result"
    }
   ],
   "source": [
    "# group by a column name + use an aggregate func\n",
    "\n",
    "# group by average sales in store\n",
    "by_store_avg_sales = df_4.groupby('Store').mean()\n",
    "by_store_avg_sales\n",
    "\n",
    "# group by total sales by store, print total sales in store 2\n",
    "by_store_sum_sales = df_4.groupby('Store').sum()\n",
    "by_store_sum_sales.loc[2]\n",
    "\n",
    "# give all the basic stats about each store\n",
    "by_store_all_stats = df_4.groupby('Store').describe()\n",
    "by_store_all_stats"
   ]
  },
  {
   "cell_type": "markdown",
   "metadata": {},
   "source": [
    ">#### Statistics\n",
    "\n",
    "- Kurtosis (`.kurt()`) gives an idea of the number of outliers in the data...\n",
    "    - value < 3: few outliers\n",
    "    - value = 3: normal distribution\n",
    "    - value > 3: many outliers"
   ]
  },
  {
   "cell_type": "code",
   "execution_count": 72,
   "metadata": {},
   "outputs": [
    {
     "data": {
      "text/plain": [
       "0       38\n",
       "1       74\n",
       "2      114\n",
       "3      139\n",
       "4      159\n",
       "5      192\n",
       "6      231\n",
       "7      270\n",
       "8      314\n",
       "9      364\n",
       "10     397\n",
       "11     432\n",
       "12     458\n",
       "13     488\n",
       "14     531\n",
       "15     578\n",
       "16     614\n",
       "17     639\n",
       "18     661\n",
       "19     693\n",
       "20     724\n",
       "21     750\n",
       "22     776\n",
       "23     804\n",
       "24     838\n",
       "25     881\n",
       "26     922\n",
       "27     959\n",
       "28     995\n",
       "29    1029\n",
       "30    1075\n",
       "Name: Temperature, dtype: int64"
      ]
     },
     "execution_count": 72,
     "metadata": {},
     "output_type": "execute_result"
    }
   ],
   "source": [
    "# counts all the values in a dataframe, excluding NaN\n",
    "weather_df.count()\n",
    "\n",
    "# gives total of all the values in a column, whilst ignoring NaN values\n",
    "weather_df['Temperature'].sum(skipna=True)\n",
    "\n",
    "# summary of stats, of a particular col/dataframe\n",
    "weather_df['Temperature'].describe()\n",
    "\n",
    "# product of all values in a column\n",
    "weather_df['Temperature'].product()\n",
    "\n",
    "# standard error of all numerical data\n",
    "weather_df.sem()\n",
    "\n",
    "# skewness of values of all numerical data\n",
    "weather_df.skew()\n",
    "\n",
    "# kurtosis of values of all numerical data\n",
    "weather_df.kurt()\n",
    "\n",
    "# cumulative sum of a particular column\n",
    "weather_df['Temperature'].cumsum()"
   ]
  },
  {
   "cell_type": "markdown",
   "metadata": {},
   "source": [
    ">#### Iterating through a Series and DataFrame"
   ]
  },
  {
   "cell_type": "code",
   "execution_count": 75,
   "metadata": {},
   "outputs": [],
   "source": [
    "series_4 = pd.Series(range(5), index=['a','b','c','d','e'])\n",
    "\n",
    "np_arr_4 = np.random.randint(10, 50, size=(3,3))\n",
    "df_8 = pd.DataFrame(np_arr_4, [1,2,3],['A','B','C'])"
   ]
  },
  {
   "cell_type": "code",
   "execution_count": 89,
   "metadata": {},
   "outputs": [],
   "source": [
    "# iterating through series\n",
    "for value in series_4:\n",
    "    print(value)\n",
    "\n",
    "# iterating through columns of a dataframe\n",
    "for col,row_indexed_values in df_8.items():\n",
    "    print(col)\n",
    "    print(row_indexed_values)\n",
    "\n",
    "# iterating through rows of a dataframe\n",
    "for row,col_indexed_values in df_8.iterrows():\n",
    "    print(row)\n",
    "    print(col_indexed_values)"
   ]
  },
  {
   "cell_type": "markdown",
   "metadata": {},
   "source": [
    ">#### Sorting"
   ]
  },
  {
   "cell_type": "code",
   "execution_count": 96,
   "metadata": {},
   "outputs": [
    {
     "name": "stdout",
     "output_type": "stream",
     "text": [
      "    A   B   C\n",
      "1  26  40  41\n",
      "2  35  30  39\n",
      "3  49  19  21\n"
     ]
    },
    {
     "data": {
      "text/html": [
       "<div>\n",
       "<style scoped>\n",
       "    .dataframe tbody tr th:only-of-type {\n",
       "        vertical-align: middle;\n",
       "    }\n",
       "\n",
       "    .dataframe tbody tr th {\n",
       "        vertical-align: top;\n",
       "    }\n",
       "\n",
       "    .dataframe thead th {\n",
       "        text-align: right;\n",
       "    }\n",
       "</style>\n",
       "<table border=\"1\" class=\"dataframe\">\n",
       "  <thead>\n",
       "    <tr style=\"text-align: right;\">\n",
       "      <th></th>\n",
       "      <th>A</th>\n",
       "      <th>B</th>\n",
       "      <th>C</th>\n",
       "    </tr>\n",
       "  </thead>\n",
       "  <tbody>\n",
       "    <tr>\n",
       "      <th>3</th>\n",
       "      <td>49</td>\n",
       "      <td>19</td>\n",
       "      <td>21</td>\n",
       "    </tr>\n",
       "    <tr>\n",
       "      <th>2</th>\n",
       "      <td>35</td>\n",
       "      <td>30</td>\n",
       "      <td>39</td>\n",
       "    </tr>\n",
       "    <tr>\n",
       "      <th>1</th>\n",
       "      <td>26</td>\n",
       "      <td>40</td>\n",
       "      <td>41</td>\n",
       "    </tr>\n",
       "  </tbody>\n",
       "</table>\n",
       "</div>"
      ],
      "text/plain": [
       "    A   B   C\n",
       "3  49  19  21\n",
       "2  35  30  39\n",
       "1  26  40  41"
      ]
     },
     "execution_count": 96,
     "metadata": {},
     "output_type": "execute_result"
    }
   ],
   "source": [
    "print(df_8)\n",
    "\n",
    "# sorts by descending order of indexes\n",
    "df_8.sort_index(ascending=False)\n",
    "\n",
    "# sorts by ascending order of values of a particular column\n",
    "df_8.sort_values(by='B', ascending=True)"
   ]
  },
  {
   "cell_type": "markdown",
   "metadata": {},
   "source": [
    ">##### Handling Missing Data"
   ]
  },
  {
   "cell_type": "code",
   "execution_count": 98,
   "metadata": {},
   "outputs": [],
   "source": [
    "dict_4 = {\n",
    "    'A': [1., 2., np.nan],\n",
    "    'B': [4., np.nan, np.nan],\n",
    "    'C': [7., 8., 9.]\n",
    "}\n",
    "\n",
    "df_9 = pd.DataFrame(dict_4)"
   ]
  },
  {
   "cell_type": "code",
   "execution_count": 114,
   "metadata": {},
   "outputs": [
    {
     "data": {
      "text/html": [
       "<div>\n",
       "<style scoped>\n",
       "    .dataframe tbody tr th:only-of-type {\n",
       "        vertical-align: middle;\n",
       "    }\n",
       "\n",
       "    .dataframe tbody tr th {\n",
       "        vertical-align: top;\n",
       "    }\n",
       "\n",
       "    .dataframe thead th {\n",
       "        text-align: right;\n",
       "    }\n",
       "</style>\n",
       "<table border=\"1\" class=\"dataframe\">\n",
       "  <thead>\n",
       "    <tr style=\"text-align: right;\">\n",
       "      <th></th>\n",
       "      <th>A</th>\n",
       "      <th>B</th>\n",
       "      <th>C</th>\n",
       "    </tr>\n",
       "  </thead>\n",
       "  <tbody>\n",
       "    <tr>\n",
       "      <th>0</th>\n",
       "      <td>1.0</td>\n",
       "      <td>4.0</td>\n",
       "      <td>7.0</td>\n",
       "    </tr>\n",
       "    <tr>\n",
       "      <th>1</th>\n",
       "      <td>2.0</td>\n",
       "      <td>4.0</td>\n",
       "      <td>8.0</td>\n",
       "    </tr>\n",
       "    <tr>\n",
       "      <th>2</th>\n",
       "      <td>2.0</td>\n",
       "      <td>4.0</td>\n",
       "      <td>9.0</td>\n",
       "    </tr>\n",
       "  </tbody>\n",
       "</table>\n",
       "</div>"
      ],
      "text/plain": [
       "     A    B    C\n",
       "0  1.0  4.0  7.0\n",
       "1  2.0  4.0  8.0\n",
       "2  2.0  4.0  9.0"
      ]
     },
     "execution_count": 114,
     "metadata": {},
     "output_type": "execute_result"
    }
   ],
   "source": [
    "# drop rows/cols containing missing values\n",
    "df_9.dropna(axis=0)\n",
    "df_9.dropna(axis=1)\n",
    "\n",
    "# drop rows/cols containing less than 2 non-NaN values\n",
    "df_9.dropna(thresh=2,axis=0)\n",
    "df_9.dropna(thresh=2,axis=1)\n",
    "\n",
    "# fill all NaN values by a particular value\n",
    "df_9.fillna(value = 0.0)\n",
    "df_9.fillna(value = df_9['A'].mean())\n",
    "\n",
    "# fill NaN values by the previous value\n",
    "df_9.fillna(method='ffill')"
   ]
  }
 ],
 "metadata": {
  "kernelspec": {
   "display_name": "Python 3.8.5 64-bit ('anaconda3')",
   "language": "python",
   "name": "python3"
  },
  "language_info": {
   "codemirror_mode": {
    "name": "ipython",
    "version": 3
   },
   "file_extension": ".py",
   "mimetype": "text/x-python",
   "name": "python",
   "nbconvert_exporter": "python",
   "pygments_lexer": "ipython3",
   "version": "3.8.5"
  },
  "orig_nbformat": 4,
  "vscode": {
   "interpreter": {
    "hash": "43b2c1e240e0c2879b782cdfd471e8eeaf7564f6fe4dbe35ada4711a315e5a9a"
   }
  }
 },
 "nbformat": 4,
 "nbformat_minor": 2
}
