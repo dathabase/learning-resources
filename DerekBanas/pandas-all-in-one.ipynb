{
 "cells": [
  {
   "cell_type": "markdown",
   "metadata": {},
   "source": [
    "# Pandas Tutorial (One Shot)\n",
    "---"
   ]
  },
  {
   "cell_type": "code",
   "execution_count": 1,
   "metadata": {},
   "outputs": [],
   "source": [
    "import pandas as pd\n",
    "import numpy as np"
   ]
  },
  {
   "cell_type": "markdown",
   "metadata": {},
   "source": [
    ">#### Creating Series\n",
    "\n",
    "Can create a series using python list, numpy arrays or dictionaries. A range of mathematical can also be applied to modify the series"
   ]
  },
  {
   "cell_type": "code",
   "execution_count": 26,
   "metadata": {},
   "outputs": [
    {
     "name": "stdout",
     "output_type": "stream",
     "text": [
      "ath details\n"
     ]
    },
    {
     "data": {
      "text/plain": [
       "0     2.718282\n",
       "1     7.389056\n",
       "2    20.085537\n",
       "3    54.598150\n",
       "dtype: float64"
      ]
     },
     "execution_count": 26,
     "metadata": {},
     "output_type": "execute_result"
    }
   ],
   "source": [
    "# series by python list\n",
    "list_1 = ['a','b','c','d']\n",
    "list_1_labels = [1,2,3,4]\n",
    "series_1 = pd.Series(data=list_1, index=list_1_labels)\n",
    "\n",
    "# series by numpy array\n",
    "sp_arr_1 = np.array([1,2,3,4])\n",
    "series_2 = pd.Series(np_arr_1)\n",
    "\n",
    "# series by dict\n",
    "dict_1 = {'name':'ath', 'age':21, 'nationality':'indian'}\n",
    "series_3 = pd.Series(dict_1, name='ath details')\n",
    "series_3.name # returns the series name defined\n",
    "\n",
    "# mathematical operations\n",
    "series_2 + series_2\n",
    "series_2 * series_2\n",
    "np.exp(series_2)"
   ]
  },
  {
   "cell_type": "markdown",
   "metadata": {},
   "source": [
    ">#### Creating Dataframes\n",
    "\n",
    "*`pd.dataframe()` parameters...*\n",
    "- values\n",
    "- row_labels\n",
    "- column_labels"
   ]
  },
  {
   "cell_type": "code",
   "execution_count": 36,
   "metadata": {},
   "outputs": [
    {
     "data": {
      "text/html": [
       "<div>\n",
       "<style scoped>\n",
       "    .dataframe tbody tr th:only-of-type {\n",
       "        vertical-align: middle;\n",
       "    }\n",
       "\n",
       "    .dataframe tbody tr th {\n",
       "        vertical-align: top;\n",
       "    }\n",
       "\n",
       "    .dataframe thead th {\n",
       "        text-align: right;\n",
       "    }\n",
       "</style>\n",
       "<table border=\"1\" class=\"dataframe\">\n",
       "  <thead>\n",
       "    <tr style=\"text-align: right;\">\n",
       "      <th></th>\n",
       "      <th>col1</th>\n",
       "      <th>col2</th>\n",
       "    </tr>\n",
       "  </thead>\n",
       "  <tbody>\n",
       "    <tr>\n",
       "      <th>row1</th>\n",
       "      <td>1.0</td>\n",
       "      <td>1.0</td>\n",
       "    </tr>\n",
       "    <tr>\n",
       "      <th>row2</th>\n",
       "      <td>2.0</td>\n",
       "      <td>2.0</td>\n",
       "    </tr>\n",
       "    <tr>\n",
       "      <th>row3</th>\n",
       "      <td>3.0</td>\n",
       "      <td>3.0</td>\n",
       "    </tr>\n",
       "    <tr>\n",
       "      <th>row4</th>\n",
       "      <td>NaN</td>\n",
       "      <td>4.0</td>\n",
       "    </tr>\n",
       "  </tbody>\n",
       "</table>\n",
       "</div>"
      ],
      "text/plain": [
       "      col1  col2\n",
       "row1   1.0   1.0\n",
       "row2   2.0   2.0\n",
       "row3   3.0   3.0\n",
       "row4   NaN   4.0"
      ]
     },
     "execution_count": 36,
     "metadata": {},
     "output_type": "execute_result"
    }
   ],
   "source": [
    "# array -> dataframe\n",
    "\n",
    "# generate random numbers between 10 and 50 into a array with 3 rows and 3 cols\n",
    "np_arr_2 = np.random.randint(10,50,size=(3,3))\n",
    "df_1 = pd.DataFrame(np_arr_2,['Row1', 'Row2', 'Row3'], ['Col1', 'Col2', 'Col3'])\n",
    "df_1\n",
    "\n",
    "# dictionary -> dataframe\n",
    "dict_2 = { 'col1': pd.Series([1,2,3], index=['row1', 'row2', 'row3']),\n",
    "            'col2': pd.Series([1.,2.,3.,4.], index=['row1', 'row2', 'row3', 'row4'])\n",
    "} \n",
    "df_2 = pd.DataFrame(dict_2)\n",
    "df_2"
   ]
  },
  {
   "cell_type": "markdown",
   "metadata": {},
   "source": [
    ">#### Editing and Retrieving Data\n",
    "\n",
    "- Obtain columns using...\n",
    "    - `dataframe.column_name` OR `dataframe['column_name']`\n",
    "\n",
    "- Obtain rows and/or columns using...\n",
    "    - `dataframe.loc[row_label,column_label]` (can also supply a range of values/index ranges; start and end labels are inclusive)\n",
    "\n",
    "    - `dataframe.iloc[row_index,column_index]` (can also supply a range of values/index ranges; start indexs are inclusive, end labels are exclusive)\n",
    "\n",
    "- Add new columns using `dataframe[<new_column>] = values` and new rows using `dataframe = dataframe.append(<new_row>)`\n",
    "    - Note: If you want the row to be indexed using 0,1,2,3... add `ignore_index=True` in the `dataframe.append()` function\n",
    "    - If you want to name the row manually, specify `name=<new_row_name>` in the `pd.Series()` argument\n",
    "\n",
    "- Delete columns/rows by specifying the row/column name, axis (`axis=0`for deleting rows; `axis=1` for deleting columns) and `inplace=True` in the `dataframe.drop()` argument"
   ]
  },
  {
   "cell_type": "code",
   "execution_count": 74,
   "metadata": {},
   "outputs": [
    {
     "data": {
      "text/html": [
       "<div>\n",
       "<style scoped>\n",
       "    .dataframe tbody tr th:only-of-type {\n",
       "        vertical-align: middle;\n",
       "    }\n",
       "\n",
       "    .dataframe tbody tr th {\n",
       "        vertical-align: top;\n",
       "    }\n",
       "\n",
       "    .dataframe thead th {\n",
       "        text-align: right;\n",
       "    }\n",
       "</style>\n",
       "<table border=\"1\" class=\"dataframe\">\n",
       "  <thead>\n",
       "    <tr style=\"text-align: right;\">\n",
       "      <th></th>\n",
       "      <th>Col1</th>\n",
       "      <th>Col3</th>\n",
       "    </tr>\n",
       "  </thead>\n",
       "  <tbody>\n",
       "    <tr>\n",
       "      <th>Row1</th>\n",
       "      <td>24</td>\n",
       "      <td>25</td>\n",
       "    </tr>\n",
       "    <tr>\n",
       "      <th>Row3</th>\n",
       "      <td>26</td>\n",
       "      <td>29</td>\n",
       "    </tr>\n",
       "  </tbody>\n",
       "</table>\n",
       "</div>"
      ],
      "text/plain": [
       "      Col1  Col3\n",
       "Row1    24    25\n",
       "Row3    26    29"
      ]
     },
     "execution_count": 74,
     "metadata": {},
     "output_type": "execute_result"
    }
   ],
   "source": [
    "# get the first column\n",
    "df_1['Col1']\n",
    "df_1.loc[:,'Col1']\n",
    "df_1.iloc[:,0]\n",
    "\n",
    "# get the first row\n",
    "df_1.loc['Row1',:]\n",
    "df_1.iloc[0,:]\n",
    "\n",
    "# get multiple columns\n",
    "df_1[['Col1','Col2']]\n",
    "df_1.loc[:,['Col1', 'Col2']]\n",
    "df_1.iloc[:,0:2]\n",
    "\n",
    "# get rows & columns (by label)\n",
    "df_1.loc['Row1':'Row3', 'Col1':'Col2']\n",
    "df_1.loc[['Row1','Row3'], ['Col1','Col3']]\n",
    "\n",
    "# get rows & columns (by index)\n",
    "df_1.iloc[0:3, 0:3]\n",
    "df_1.iloc[[0,2], [0,2]]\n",
    "\n",
    "df_1.loc['Row1', 'Col2'] # returns a particular value"
   ]
  },
  {
   "cell_type": "code",
   "execution_count": 97,
   "metadata": {},
   "outputs": [
    {
     "data": {
      "text/html": [
       "<div>\n",
       "<style scoped>\n",
       "    .dataframe tbody tr th:only-of-type {\n",
       "        vertical-align: middle;\n",
       "    }\n",
       "\n",
       "    .dataframe tbody tr th {\n",
       "        vertical-align: top;\n",
       "    }\n",
       "\n",
       "    .dataframe thead th {\n",
       "        text-align: right;\n",
       "    }\n",
       "</style>\n",
       "<table border=\"1\" class=\"dataframe\">\n",
       "  <thead>\n",
       "    <tr style=\"text-align: right;\">\n",
       "      <th></th>\n",
       "      <th>Col1</th>\n",
       "      <th>Col2</th>\n",
       "      <th>Col3</th>\n",
       "      <th>Col_Total</th>\n",
       "    </tr>\n",
       "  </thead>\n",
       "  <tbody>\n",
       "    <tr>\n",
       "      <th>Row1</th>\n",
       "      <td>24</td>\n",
       "      <td>18</td>\n",
       "      <td>25</td>\n",
       "      <td>67</td>\n",
       "    </tr>\n",
       "    <tr>\n",
       "      <th>Row2</th>\n",
       "      <td>35</td>\n",
       "      <td>42</td>\n",
       "      <td>22</td>\n",
       "      <td>99</td>\n",
       "    </tr>\n",
       "    <tr>\n",
       "      <th>Row3</th>\n",
       "      <td>26</td>\n",
       "      <td>46</td>\n",
       "      <td>29</td>\n",
       "      <td>101</td>\n",
       "    </tr>\n",
       "    <tr>\n",
       "      <th>Row_Total</th>\n",
       "      <td>85</td>\n",
       "      <td>106</td>\n",
       "      <td>76</td>\n",
       "      <td>267</td>\n",
       "    </tr>\n",
       "  </tbody>\n",
       "</table>\n",
       "</div>"
      ],
      "text/plain": [
       "           Col1  Col2  Col3  Col_Total\n",
       "Row1         24    18    25         67\n",
       "Row2         35    42    22         99\n",
       "Row3         26    46    29        101\n",
       "Row_Total    85   106    76        267"
      ]
     },
     "execution_count": 97,
     "metadata": {},
     "output_type": "execute_result"
    }
   ],
   "source": [
    "# adding a new column\n",
    "df_1['Col_Total'] = df_1['Col1'] + df_1['Col2'] + df_1['Col3']\n",
    "df_1\n",
    "\n",
    "# adding a new row\n",
    "new_row = pd.Series(df_1.loc['Row1'] + df_1.loc['Row2'] + df_1.loc['Row3'], name='Row_Total')\n",
    "df_1 = df_1.append(new_row)\n",
    "df_1"
   ]
  },
  {
   "cell_type": "code",
   "execution_count": 98,
   "metadata": {},
   "outputs": [
    {
     "data": {
      "text/html": [
       "<div>\n",
       "<style scoped>\n",
       "    .dataframe tbody tr th:only-of-type {\n",
       "        vertical-align: middle;\n",
       "    }\n",
       "\n",
       "    .dataframe tbody tr th {\n",
       "        vertical-align: top;\n",
       "    }\n",
       "\n",
       "    .dataframe thead th {\n",
       "        text-align: right;\n",
       "    }\n",
       "</style>\n",
       "<table border=\"1\" class=\"dataframe\">\n",
       "  <thead>\n",
       "    <tr style=\"text-align: right;\">\n",
       "      <th></th>\n",
       "      <th>Col1</th>\n",
       "      <th>Col2</th>\n",
       "      <th>Col3</th>\n",
       "    </tr>\n",
       "  </thead>\n",
       "  <tbody>\n",
       "    <tr>\n",
       "      <th>Row1</th>\n",
       "      <td>24</td>\n",
       "      <td>18</td>\n",
       "      <td>25</td>\n",
       "    </tr>\n",
       "    <tr>\n",
       "      <th>Row2</th>\n",
       "      <td>35</td>\n",
       "      <td>42</td>\n",
       "      <td>22</td>\n",
       "    </tr>\n",
       "    <tr>\n",
       "      <th>Row3</th>\n",
       "      <td>26</td>\n",
       "      <td>46</td>\n",
       "      <td>29</td>\n",
       "    </tr>\n",
       "  </tbody>\n",
       "</table>\n",
       "</div>"
      ],
      "text/plain": [
       "      Col1  Col2  Col3\n",
       "Row1    24    18    25\n",
       "Row2    35    42    22\n",
       "Row3    26    46    29"
      ]
     },
     "execution_count": 98,
     "metadata": {},
     "output_type": "execute_result"
    }
   ],
   "source": [
    "# deleting columns\n",
    "df_1.drop('Col_Total', axis=1, inplace=True)\n",
    "\n",
    "# deleting rows\n",
    "df_1.drop('Row_Total', axis=0, inplace=True)"
   ]
  },
  {
   "cell_type": "code",
   "execution_count": 103,
   "metadata": {},
   "outputs": [
    {
     "data": {
      "text/html": [
       "<div>\n",
       "<style scoped>\n",
       "    .dataframe tbody tr th:only-of-type {\n",
       "        vertical-align: middle;\n",
       "    }\n",
       "\n",
       "    .dataframe tbody tr th {\n",
       "        vertical-align: top;\n",
       "    }\n",
       "\n",
       "    .dataframe thead th {\n",
       "        text-align: right;\n",
       "    }\n",
       "</style>\n",
       "<table border=\"1\" class=\"dataframe\">\n",
       "  <thead>\n",
       "    <tr style=\"text-align: right;\">\n",
       "      <th></th>\n",
       "      <th>Col1</th>\n",
       "      <th>Col2</th>\n",
       "      <th>Col3</th>\n",
       "    </tr>\n",
       "  </thead>\n",
       "  <tbody>\n",
       "    <tr>\n",
       "      <th>0</th>\n",
       "      <td>24</td>\n",
       "      <td>18</td>\n",
       "      <td>25</td>\n",
       "    </tr>\n",
       "    <tr>\n",
       "      <th>1</th>\n",
       "      <td>35</td>\n",
       "      <td>42</td>\n",
       "      <td>22</td>\n",
       "    </tr>\n",
       "    <tr>\n",
       "      <th>2</th>\n",
       "      <td>26</td>\n",
       "      <td>46</td>\n",
       "      <td>29</td>\n",
       "    </tr>\n",
       "  </tbody>\n",
       "</table>\n",
       "</div>"
      ],
      "text/plain": [
       "   Col1  Col2  Col3\n",
       "0    24    18    25\n",
       "1    35    42    22\n",
       "2    26    46    29"
      ]
     },
     "execution_count": 103,
     "metadata": {},
     "output_type": "execute_result"
    }
   ],
   "source": [
    "# set index\n",
    "df_1['Row_names'] = ['Row1','Row2','Row3']\n",
    "df_1.set_index('Row_names', inplace=True)\n",
    "\n",
    "# reset index\n",
    "df_1.reset_index(inplace=True)\n",
    "df_1.drop('Row_names', axis=1, inplace=True)"
   ]
  },
  {
   "cell_type": "markdown",
   "metadata": {},
   "source": [
    ">#### Conditional Selection"
   ]
  },
  {
   "cell_type": "code",
   "execution_count": 137,
   "metadata": {},
   "outputs": [
    {
     "data": {
      "text/html": [
       "<div>\n",
       "<style scoped>\n",
       "    .dataframe tbody tr th:only-of-type {\n",
       "        vertical-align: middle;\n",
       "    }\n",
       "\n",
       "    .dataframe tbody tr th {\n",
       "        vertical-align: top;\n",
       "    }\n",
       "\n",
       "    .dataframe thead th {\n",
       "        text-align: right;\n",
       "    }\n",
       "</style>\n",
       "<table border=\"1\" class=\"dataframe\">\n",
       "  <thead>\n",
       "    <tr style=\"text-align: right;\">\n",
       "      <th></th>\n",
       "      <th>Col1</th>\n",
       "      <th>Col2</th>\n",
       "      <th>Col3</th>\n",
       "    </tr>\n",
       "  </thead>\n",
       "  <tbody>\n",
       "    <tr>\n",
       "      <th>0</th>\n",
       "      <td>3</td>\n",
       "      <td>5</td>\n",
       "      <td>3</td>\n",
       "    </tr>\n",
       "    <tr>\n",
       "      <th>1</th>\n",
       "      <td>5</td>\n",
       "      <td>4</td>\n",
       "      <td>6</td>\n",
       "    </tr>\n",
       "    <tr>\n",
       "      <th>2</th>\n",
       "      <td>8</td>\n",
       "      <td>3</td>\n",
       "      <td>4</td>\n",
       "    </tr>\n",
       "  </tbody>\n",
       "</table>\n",
       "</div>"
      ],
      "text/plain": [
       "   Col1  Col2  Col3\n",
       "0     3     5     3\n",
       "1     5     4     6\n",
       "2     8     3     4"
      ]
     },
     "execution_count": 137,
     "metadata": {},
     "output_type": "execute_result"
    }
   ],
   "source": [
    "np_arr_3 = np.random.randint(1,10, size=(3,3))\n",
    "df_3 = pd.DataFrame(np_arr_3, index=None, columns=['Col1','Col2','Col3'])\n",
    "df_3"
   ]
  },
  {
   "cell_type": "code",
   "execution_count": 186,
   "metadata": {},
   "outputs": [
    {
     "data": {
      "text/html": [
       "<div>\n",
       "<style scoped>\n",
       "    .dataframe tbody tr th:only-of-type {\n",
       "        vertical-align: middle;\n",
       "    }\n",
       "\n",
       "    .dataframe tbody tr th {\n",
       "        vertical-align: top;\n",
       "    }\n",
       "\n",
       "    .dataframe thead th {\n",
       "        text-align: right;\n",
       "    }\n",
       "</style>\n",
       "<table border=\"1\" class=\"dataframe\">\n",
       "  <thead>\n",
       "    <tr style=\"text-align: right;\">\n",
       "      <th></th>\n",
       "      <th>Col1</th>\n",
       "      <th>Col2</th>\n",
       "      <th>Col3</th>\n",
       "    </tr>\n",
       "  </thead>\n",
       "  <tbody>\n",
       "    <tr>\n",
       "      <th>0</th>\n",
       "      <td>3</td>\n",
       "      <td>5</td>\n",
       "      <td>3</td>\n",
       "    </tr>\n",
       "    <tr>\n",
       "      <th>1</th>\n",
       "      <td>5</td>\n",
       "      <td>4</td>\n",
       "      <td>6</td>\n",
       "    </tr>\n",
       "  </tbody>\n",
       "</table>\n",
       "</div>"
      ],
      "text/plain": [
       "   Col1  Col2  Col3\n",
       "0     3     5     3\n",
       "1     5     4     6"
      ]
     },
     "execution_count": 186,
     "metadata": {},
     "output_type": "execute_result"
    }
   ],
   "source": [
    "# prints the dataframe where the values in first col satisfy the conditional \n",
    "df_3[df_3['Col1'] <= 5]"
   ]
  },
  {
   "cell_type": "markdown",
   "metadata": {},
   "source": [
    ">#### File Input/Output\n",
    "\n",
    "- Pandas can work with...\n",
    "    - .csv files: \n",
    "        - Read = `pd.read_csv(filename)`\n",
    "        - Write = `dataframe.to_csv(filename)`\n",
    "    - .xlsx files: \n",
    "        - Read = `pd.read_excel(filename)`\n",
    "        - Write = `dataframe.to_excel(filename)`\n",
    "\n",
    "    - Databases:\n",
    "        ```\n",
    "        import pymysql\n",
    "        \n",
    "        try:\n",
    "            db_connection = pymysql.connect(db = database_name, user = user_name, passwd = password_name, host = 'localhost', port = port_num <check port num>)\n",
    "            dataframe = pd.read_sql('SELECT * FROM database_name', con=db_connection)\n",
    "            print(database_name)\n",
    "\n",
    "        except Exception as e:\n",
    "            print('Exception {}'.format(e))\n",
    "\n",
    "        finally:\n",
    "            db_connection.close()\n",
    "        ```"
   ]
  },
  {
   "cell_type": "markdown",
   "metadata": {},
   "source": [
    ">#### Dataframe basics"
   ]
  },
  {
   "cell_type": "code",
   "execution_count": 191,
   "metadata": {},
   "outputs": [],
   "source": [
    "weather_df = pd.read_csv('nyc_weather_data.csv')"
   ]
  },
  {
   "cell_type": "code",
   "execution_count": 215,
   "metadata": {},
   "outputs": [
    {
     "data": {
      "text/html": [
       "<div>\n",
       "<style scoped>\n",
       "    .dataframe tbody tr th:only-of-type {\n",
       "        vertical-align: middle;\n",
       "    }\n",
       "\n",
       "    .dataframe tbody tr th {\n",
       "        vertical-align: top;\n",
       "    }\n",
       "\n",
       "    .dataframe thead th {\n",
       "        text-align: right;\n",
       "    }\n",
       "</style>\n",
       "<table border=\"1\" class=\"dataframe\">\n",
       "  <thead>\n",
       "    <tr style=\"text-align: right;\">\n",
       "      <th></th>\n",
       "      <th>Col1</th>\n",
       "      <th>Col2</th>\n",
       "      <th>Col3</th>\n",
       "    </tr>\n",
       "  </thead>\n",
       "  <tbody>\n",
       "    <tr>\n",
       "      <th>0</th>\n",
       "      <td>5</td>\n",
       "      <td>4</td>\n",
       "      <td>3</td>\n",
       "    </tr>\n",
       "    <tr>\n",
       "      <th>1</th>\n",
       "      <td>7</td>\n",
       "      <td>3</td>\n",
       "      <td>6</td>\n",
       "    </tr>\n",
       "    <tr>\n",
       "      <th>2</th>\n",
       "      <td>10</td>\n",
       "      <td>2</td>\n",
       "      <td>4</td>\n",
       "    </tr>\n",
       "  </tbody>\n",
       "</table>\n",
       "</div>"
      ],
      "text/plain": [
       "   Col1  Col2  Col3\n",
       "0     5     4     3\n",
       "1     7     3     6\n",
       "2    10     2     4"
      ]
     },
     "execution_count": 215,
     "metadata": {},
     "output_type": "execute_result"
    }
   ],
   "source": [
    "weather_df.head() # prints first 5 rows\n",
    "weather_df.tail() # prints last 5 rows\n",
    "\n",
    "# convert to numpy array\n",
    "weather_df.to_numpy()\n",
    "\n",
    "# get all row indices as an array\n",
    "weather_df.index.array \n",
    "\n",
    "# add 1 to all values in a dataframe\n",
    "df_3.transform(lambda x: x+1)\n",
    "\n",
    "# add 2 to all values within 1st column \n",
    "# and subtract 1 from all vlues in second column\n",
    "df_3.transform({'Col1': lambda x: x+2,\n",
    "                'Col2': lambda x: x-1,\n",
    "                'Col3': lambda x: x})\n",
    "\n",
    "\n"
   ]
  },
  {
   "cell_type": "code",
   "execution_count": null,
   "metadata": {},
   "outputs": [],
   "source": []
  },
  {
   "cell_type": "code",
   "execution_count": null,
   "metadata": {},
   "outputs": [],
   "source": []
  }
 ],
 "metadata": {
  "kernelspec": {
   "display_name": "Python 3.8.5 64-bit ('anaconda3')",
   "language": "python",
   "name": "python3"
  },
  "language_info": {
   "codemirror_mode": {
    "name": "ipython",
    "version": 3
   },
   "file_extension": ".py",
   "mimetype": "text/x-python",
   "name": "python",
   "nbconvert_exporter": "python",
   "pygments_lexer": "ipython3",
   "version": "3.8.5"
  },
  "orig_nbformat": 4,
  "vscode": {
   "interpreter": {
    "hash": "43b2c1e240e0c2879b782cdfd471e8eeaf7564f6fe4dbe35ada4711a315e5a9a"
   }
  }
 },
 "nbformat": 4,
 "nbformat_minor": 2
}
