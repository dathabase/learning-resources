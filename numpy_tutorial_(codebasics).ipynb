{
 "cells": [
  {
   "cell_type": "markdown",
   "metadata": {},
   "source": [
    "# Numpy Tutorial Playlist\n",
    "---"
   ]
  },
  {
   "cell_type": "markdown",
   "metadata": {},
   "source": [
    "Ref [CodeBasics]: https://www.youtube.com/watch?v=rN0TREj8G7U&list=PLUcmakntVocWGSKXIsUn1J7Wm9ekpZ87G \n",
    "\n",
    "(Playlist of 6 videos)"
   ]
  },
  {
   "cell_type": "markdown",
   "metadata": {},
   "source": [
    ">#### Numpy Arrays vs Python Lists\n",
    "\n",
    "- Numpy Arrays (`np.array([element1, element2 ..])`) use less memory, are fast and more convenient than traditional arrays"
   ]
  },
  {
   "cell_type": "code",
   "execution_count": 1,
   "metadata": {},
   "outputs": [],
   "source": [
    "import numpy as np"
   ]
  },
  {
   "cell_type": "code",
   "execution_count": 8,
   "metadata": {},
   "outputs": [
    {
     "name": "stdout",
     "output_type": "stream",
     "text": [
      "Python list took 274.5041847229004 miliseconds\n",
      "Numpy Array took 2.990245819091797 miliseconds\n"
     ]
    }
   ],
   "source": [
    "# time taken to add a million elements of 2 lists\n",
    "import time\n",
    "\n",
    "size = 1000000\n",
    "\n",
    "list_1 = range(size)\n",
    "list_2 = range(size)\n",
    "\n",
    "numpy_list_1 = np.arange(size)\n",
    "numpy_list_2 = np.arange(size)\n",
    "\n",
    "# python list\n",
    "start = time.time()\n",
    "result = [(x+y) for x,y in zip(list_1, list_2)]\n",
    "print(\"Python list took {} miliseconds\".format((time.time() - start)*1000))\n",
    "\n",
    "# numpy array\n",
    "start = time.time()\n",
    "numpy_list_1 + numpy_list_2\n",
    "print(\"Numpy Array took {} miliseconds\".format((time.time() - start)*1000))"
   ]
  },
  {
   "cell_type": "markdown",
   "metadata": {},
   "source": [
    ">#### Datatypes, Shaping, Reshaping"
   ]
  },
  {
   "cell_type": "code",
   "execution_count": 55,
   "metadata": {},
   "outputs": [
    {
     "name": "stdout",
     "output_type": "stream",
     "text": [
      "int32 holds 4 bytes\n",
      "float64 holds 8 bytes\n",
      "(3, 2)\n",
      "[[1 2]\n",
      " [3 4]\n",
      " [5 6]]\n",
      "[[1 2 3]\n",
      " [4 5 6]]\n",
      "[1 2 3 4 5 6]\n",
      "[[0. 0. 0. 0.]\n",
      " [0. 0. 0. 0.]\n",
      " [0. 0. 0. 0.]]\n",
      "[[1. 1. 1. 1.]\n",
      " [1. 1. 1. 1.]\n",
      " [1. 1. 1. 1.]\n",
      " [1. 1. 1. 1.]]\n"
     ]
    }
   ],
   "source": [
    "a = np.array([1,2,3,4])\n",
    "\n",
    "a.dtype # returns the data type of the element in the array\n",
    "type(a) # returns the \n",
    "\n",
    "# gives the dimension of the array\n",
    "a.ndim\n",
    "\n",
    "# changing the data type\n",
    "a_float = np.array([1,2,3,4], dtype=np.float64)\n",
    "a_float.itemsize\n",
    "\n",
    "# checking the bitesize of each item\n",
    "print(\"{} holds {} bytes\".format(a.dtype, a.itemsize))\n",
    "print(\"{} holds {} bytes\".format(a_float.dtype, a_float.itemsize))\n",
    "\n",
    "# size of the array\n",
    "a_float.size\n",
    "\n",
    "# rows, columns within an array\n",
    "b = np.array([[1,2],[3,4],[5,6]])\n",
    "print(b.shape)\n",
    "\n",
    "# reshape array\n",
    "b.reshape(2,3)\n",
    "\n",
    "# flatten array i.e. make it one dimensional\n",
    "b.ravel()\n",
    "\n",
    "# table of zeroes\n",
    "zeros_3by4 = np.zeros((3,4)) #(rows,cols)\n",
    "print(zeros_3by4)\n",
    "\n",
    "# table of ones\n",
    "ones_4by4 = np.ones((4,4)) #(rows,cols)\n",
    "print(ones_4by4)"
   ]
  },
  {
   "cell_type": "markdown",
   "metadata": {},
   "source": [
    "***Note:*** Functions like `.reshape()`, `.ravel()` don't alter the original array - they instead return a new array that can be stored inside a new variable"
   ]
  },
  {
   "cell_type": "markdown",
   "metadata": {},
   "source": [
    ">#### Creating Ranges"
   ]
  },
  {
   "cell_type": "code",
   "execution_count": 49,
   "metadata": {},
   "outputs": [
    {
     "data": {
      "text/plain": [
       "array([ 0.,  1.,  2.,  3.,  4.,  5.,  6.,  7.,  8.,  9., 10.])"
      ]
     },
     "execution_count": 49,
     "metadata": {},
     "output_type": "execute_result"
    }
   ],
   "source": [
    "# range of values\n",
    "range_0to5 = np.arange(0,6,1) # (start, end, step)\n",
    "range_0to5\n",
    "\n",
    "# creating x linearly space numbers between start_num and end_num\n",
    "range_0to10  = np.linspace(0,10,11) # (start, end, x): x = nums between start and end\n",
    "range_0to10"
   ]
  },
  {
   "cell_type": "markdown",
   "metadata": {},
   "source": [
    ">#### Basic Maths/Stats Functions"
   ]
  },
  {
   "cell_type": "code",
   "execution_count": 87,
   "metadata": {},
   "outputs": [
    {
     "data": {
      "text/plain": [
       "3.1622776601683795"
      ]
     },
     "execution_count": 87,
     "metadata": {},
     "output_type": "execute_result"
    }
   ],
   "source": [
    "c = np.arange(0,11)\n",
    "d = np.array([[1,2],[3,4],[5,6]])\n",
    "\n",
    "# return smallest element\n",
    "c.min()\n",
    "\n",
    "# return largest element\n",
    "c.max()\n",
    "\n",
    "# sum of all elements in the array\n",
    "c.sum()\n",
    "\n",
    "# using axis argument to return sum in multi-dimentional array\n",
    "d.sum(axis=1) # axis=0: iterate thro columns, axis=1: iterate thro rows\n",
    "\n",
    "# square root of all elements\n",
    "np.sqrt(c)\n",
    "\n",
    "# standard deviation of a list\n",
    "np.std(c)"
   ]
  },
  {
   "cell_type": "markdown",
   "metadata": {},
   "source": [
    ">#### Operations between Arrays"
   ]
  },
  {
   "cell_type": "code",
   "execution_count": 98,
   "metadata": {},
   "outputs": [
    {
     "data": {
      "text/plain": [
       "array([[19, 22],\n",
       "       [43, 50]])"
      ]
     },
     "execution_count": 98,
     "metadata": {},
     "output_type": "execute_result"
    }
   ],
   "source": [
    "e = np.arange(1,11)\n",
    "f = np.arange(11,21)\n",
    "\n",
    "e+f # add\n",
    "e-f # subtract\n",
    "e/f # divide\n",
    "e*f # multiply\n",
    "\n",
    "# matrix product\n",
    "g = np.array([[1,2],[3,4]])\n",
    "h = np.array([[5,6],[7,8]])\n",
    "g.dot(h)"
   ]
  },
  {
   "cell_type": "markdown",
   "metadata": {},
   "source": [
    ">#### Slicing, Stacking, Indexing with Boolean arrays"
   ]
  },
  {
   "cell_type": "code",
   "execution_count": 106,
   "metadata": {},
   "outputs": [
    {
     "data": {
      "text/plain": [
       "array([13, 16])"
      ]
     },
     "execution_count": 106,
     "metadata": {},
     "output_type": "execute_result"
    }
   ],
   "source": [
    "i = np.array([5,6,7,8,9])\n",
    "j = np.array([[9,10,11],[12,13,14],[15,16,17]])\n",
    "\n",
    "i[0:2] # slicing\n",
    "i[-1]  # reverse indexing\n",
    "j[1:3,1] # multi-dimensional indexing; [rows,cols]\n"
   ]
  },
  {
   "cell_type": "code",
   "execution_count": 138,
   "metadata": {},
   "outputs": [
    {
     "data": {
      "text/plain": [
       "array([[21, 22, 23, 24, 25, 26, 27, 28, 29, 30]])"
      ]
     },
     "execution_count": 138,
     "metadata": {},
     "output_type": "execute_result"
    }
   ],
   "source": [
    "k = np.arange(6).reshape(3,2)\n",
    "l = np.arange(6,12).reshape(3,2)\n",
    "\n",
    "np.vstack((k,l)) # stack vertically\n",
    "np.hstack((k,l)) # stack horizontally\n",
    "\n",
    "m = np.arange(1,31).reshape(3,10)\n",
    "\n",
    "# horizontal split into x equal sections\n",
    "m_hsplit = np.hsplit(m,2)\n",
    "m_hsplit[0] # call a section by index\n",
    "\n",
    "# vertical split into x equal sections\n",
    "m_vsplit = np.vsplit(m,3)\n",
    "m_vsplit[1] # call a section by index"
   ]
  },
  {
   "cell_type": "code",
   "execution_count": 149,
   "metadata": {},
   "outputs": [
    {
     "data": {
      "text/plain": [
       "array([[ 1,  2,  3,  4],\n",
       "       [ 5,  6,  7,  8],\n",
       "       [ 9, 10, -1, -1],\n",
       "       [-1, -1, -1, -1],\n",
       "       [-1, -1, -1, -1]])"
      ]
     },
     "execution_count": 149,
     "metadata": {},
     "output_type": "execute_result"
    }
   ],
   "source": [
    "n = np.arange(1,21).reshape(5,4)\n",
    "\n",
    "o = n > 10 # boolean condition\n",
    "\n",
    "# prints those values which satisfy the above\n",
    "n[o] \n",
    "\n",
    "# replaced all elements that satisfy the above condition with '-1'\n",
    "n[o] = -1\n",
    "n"
   ]
  },
  {
   "cell_type": "markdown",
   "metadata": {},
   "source": [
    ">#### Iterating through Numpy arrays"
   ]
  },
  {
   "cell_type": "code",
   "execution_count": 14,
   "metadata": {},
   "outputs": [
    {
     "name": "stdout",
     "output_type": "stream",
     "text": [
      "0\n",
      "1\n",
      "2\n",
      "3\n",
      "4\n",
      "5\n",
      "6\n",
      "7\n",
      "8\n",
      "9\n",
      "10\n",
      "11\n",
      "0\n",
      "1\n",
      "2\n",
      "3\n",
      "4\n",
      "5\n",
      "6\n",
      "7\n",
      "8\n",
      "9\n",
      "10\n",
      "11\n"
     ]
    }
   ],
   "source": [
    "# using for loop(s)\n",
    "p = np.arange(12).reshape(3,4)\n",
    "\n",
    "for row in p:\n",
    "    for element in row:\n",
    "        print(element)\n",
    "\n",
    "# OR\n",
    "\n",
    "for element in p.flatten():\n",
    "    print(element)"
   ]
  },
  {
   "cell_type": "code",
   "execution_count": 15,
   "metadata": {},
   "outputs": [
    {
     "name": "stdout",
     "output_type": "stream",
     "text": [
      "0\n",
      "1\n",
      "2\n",
      "3\n",
      "4\n",
      "5\n",
      "6\n",
      "7\n",
      "8\n",
      "9\n",
      "10\n",
      "11\n",
      "0\n",
      "4\n",
      "8\n",
      "1\n",
      "5\n",
      "9\n",
      "2\n",
      "6\n",
      "10\n",
      "3\n",
      "7\n",
      "11\n",
      "[0 4 8]\n",
      "[1 5 9]\n",
      "[ 2  6 10]\n",
      "[ 3  7 11]\n",
      "[[  0   1   4   9]\n",
      " [ 16  25  36  49]\n",
      " [ 64  81 100 121]]\n"
     ]
    }
   ],
   "source": [
    "# using nditer\n",
    "\n",
    "# iterating row-by-row, printing each element\n",
    "for x in np.nditer(p,order=\"C\"):\n",
    "    print(x)\n",
    "\n",
    "# iterating column-by-column, printing each element\n",
    "for x in np.nditer(p,order=\"F\"):\n",
    "    print(x)\n",
    "\n",
    "# iterating column-by-column, printing each column\n",
    "for x in np.nditer(p,order=\"F\",flags=[\"external_loop\"]):\n",
    "    print(x)\n",
    "\n",
    "# iterating through each element and modifying it\n",
    "for x in np.nditer(p,op_flags=[\"readwrite\"]):\n",
    "    x[...]=x*x # returns the square of each element in the array"
   ]
  },
  {
   "cell_type": "code",
   "execution_count": 18,
   "metadata": {},
   "outputs": [
    {
     "name": "stdout",
     "output_type": "stream",
     "text": [
      "1 1\n",
      "2 1\n",
      "3 1\n",
      "4 1\n",
      "5 2\n",
      "6 2\n",
      "7 2\n",
      "8 2\n",
      "9 3\n",
      "10 3\n",
      "11 3\n",
      "12 3\n"
     ]
    }
   ],
   "source": [
    "q = np.arange(1,13).reshape(3,4)\n",
    "r = np.arange(1,4).reshape(3,1)\n",
    "\n",
    "# iterating through 2 arays\n",
    "for q_ele, r_ele in np.nditer([q,r]):\n",
    "    print(q_ele, r_ele)\n"
   ]
  },
  {
   "cell_type": "markdown",
   "metadata": {},
   "source": [
    "**General Array Broadcasting Rules**: Two dimensions are compatible when...\n",
    "- They are equal\n",
    "- One of them is 1\n",
    "\n",
    "For eg: A shape of (3,2) is compatible with = (3,2), (3,1), (1,2)"
   ]
  }
 ],
 "metadata": {
  "kernelspec": {
   "display_name": "Python 3.10.2 64-bit (system)",
   "language": "python",
   "name": "python3"
  },
  "language_info": {
   "codemirror_mode": {
    "name": "ipython",
    "version": 3
   },
   "file_extension": ".py",
   "mimetype": "text/x-python",
   "name": "python",
   "nbconvert_exporter": "python",
   "pygments_lexer": "ipython3",
   "version": "3.10.2"
  },
  "orig_nbformat": 4,
  "vscode": {
   "interpreter": {
    "hash": "5312a05d4c1062e7e99dc4a1327331a73c17135ec320657c0e8e8843948bfa85"
   }
  }
 },
 "nbformat": 4,
 "nbformat_minor": 2
}
