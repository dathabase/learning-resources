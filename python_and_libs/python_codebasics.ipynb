{
 "cells": [
  {
   "cell_type": "markdown",
   "metadata": {},
   "source": [
    "# Object Oriented Programming (OOP) in Python (Codebasics)\n",
    "---"
   ]
  },
  {
   "cell_type": "markdown",
   "metadata": {},
   "source": [
    "Ref: https://www.youtube.com/watch?v=mrhccLHtyN4&list=PLeo1K3hjS3utXiAr1FqrssqNU1Q0ai84x"
   ]
  },
  {
   "cell_type": "markdown",
   "metadata": {},
   "source": [
    ">#### Classes and Objects"
   ]
  },
  {
   "cell_type": "code",
   "execution_count": 11,
   "metadata": {},
   "outputs": [],
   "source": [
    "# creating a class\n",
    "\n",
    "class Human:\n",
    "    # defining properties\n",
    "    def __init__(self, n, o): # init method is called whenever an instance is created\n",
    "        # instance has a specific value of those properties so...\n",
    "        self.name = n # assigned specific value (argument = n) for 'name' property\n",
    "        self.occupation = o.lower() # assigned specific value (argument = o) for 'occupation' property\n",
    "    \n",
    "    # defining method\n",
    "    def do_work(self):\n",
    "        if self.occupation == \"tennis player\":\n",
    "            print(self.name, \"plays tennis\")\n",
    "        elif self.occupation == \"actor\":\n",
    "            print(self.name, \"shoots films\")\n",
    "        elif self.occupation == \"engineer\":\n",
    "            print(self.name, \"finds solutions and fixes stuff\")\n",
    "    \n",
    "    # defining method\n",
    "    def speaks(self):\n",
    "        print(self.name, \"says how are you !\")\n"
   ]
  },
  {
   "cell_type": "code",
   "execution_count": 18,
   "metadata": {},
   "outputs": [
    {
     "name": "stdout",
     "output_type": "stream",
     "text": [
      "Tom Cruise shoots films\n",
      "Tom Cruise says how are you !\n",
      "Maria Sharapova plays tennis\n",
      "Maria Sharapova says how are you !\n"
     ]
    }
   ],
   "source": [
    "# creating instances\n",
    "\n",
    "tom_cruise  = Human(\"Tom Cruise\", \"Actor\")\n",
    "tom_cruise.do_work()\n",
    "tom_cruise.speaks()\n",
    "\n",
    "maria_sharapova  = Human(\"Maria Sharapova\", \"Tennis player\")\n",
    "maria_sharapova.do_work()\n",
    "maria_sharapova.speaks()"
   ]
  },
  {
   "cell_type": "markdown",
   "metadata": {},
   "source": [
    ">#### Inheritance"
   ]
  },
  {
   "cell_type": "code",
   "execution_count": 25,
   "metadata": {},
   "outputs": [],
   "source": [
    "# base class\n",
    "class Vehicle:\n",
    "    def general_usage(self):\n",
    "        print(\"General use: transportation\")\n",
    "\n",
    "# derived classes\n",
    "class Car(Vehicle):\n",
    "    # properties\n",
    "    def __init__(self):\n",
    "        print(\"This is a car\") # this will be printed whenever Car() is called\n",
    "        self.wheels = 4\n",
    "        self.has_roof = True\n",
    "\n",
    "    # methods\n",
    "    def specific_usage(self):\n",
    "        print(\"Specific Use: Commute to work, vacation with family\")\n",
    "\n",
    "class Motorcycle(Vehicle):\n",
    "    # properties\n",
    "    def __init__(self):\n",
    "        print(\"This is a motorcycle\")\n",
    "        self.wheels = 2\n",
    "        self.has_roof = False\n",
    "\n",
    "    # methods\n",
    "    def specific_usage(self):\n",
    "        print(\"Specific Use: racing\")\n",
    "\n",
    "class Bicycle(Vehicle):\n",
    "    # properties\n",
    "    def __init__(self):\n",
    "        print(\"This is a bicycle\")\n",
    "        self.wheels = 2\n",
    "        self.has_roof = False\n",
    "\n",
    "    # methods\n",
    "    def specific_usage(self):\n",
    "        print(\"Specific Use: adventure sports, fitness\")\n"
   ]
  },
  {
   "cell_type": "code",
   "execution_count": 36,
   "metadata": {},
   "outputs": [
    {
     "name": "stdout",
     "output_type": "stream",
     "text": [
      "This is a car\n",
      "General use: transportation\n",
      "Specific Use: Commute to work, vacation with family\n",
      "This is a motorcycle\n",
      "General use: transportation\n",
      "Specific Use: racing\n",
      "This is a bicycle\n",
      "General use: transportation\n",
      "Specific Use: adventure sports, fitness\n"
     ]
    }
   ],
   "source": [
    "# instances\n",
    "car = Car()\n",
    "car.general_usage() # can call this method since Car() sub-class is inherited from Vehicle() class\n",
    "car.specific_usage()\n",
    "\n",
    "motorcyle = Motorcycle()\n",
    "motorcyle.general_usage() \n",
    "motorcyle.specific_usage()\n",
    "\n",
    "bicycle = Bicycle()\n",
    "bicycle.general_usage() \n",
    "bicycle.specific_usage()"
   ]
  },
  {
   "cell_type": "code",
   "execution_count": 42,
   "metadata": {},
   "outputs": [
    {
     "name": "stdout",
     "output_type": "stream",
     "text": [
      "True\n",
      "False\n",
      "True\n",
      "False\n"
     ]
    }
   ],
   "source": [
    "# checking whether something is an object/instance of the class\n",
    "print(isinstance(car,Car))\n",
    "print(isinstance(car,Motorcycle))\n",
    "\n",
    "# checking whether something is a sub-class of the main class\n",
    "print(issubclass(Car,Vehicle))\n",
    "print(issubclass(Car,Motorcycle))\n"
   ]
  },
  {
   "cell_type": "markdown",
   "metadata": {},
   "source": [
    ">#### Multiple Inheritance"
   ]
  },
  {
   "cell_type": "code",
   "execution_count": 44,
   "metadata": {},
   "outputs": [],
   "source": [
    "class Father():\n",
    "    def gardening(self):\n",
    "        print(\"I enjoy gardening\")\n",
    "\n",
    "class Mother():\n",
    "    def cooking(self):\n",
    "        print(\"I love cooking\")\n",
    "\n",
    "# define a child class that inherits from Father and Mother class\n",
    "class Child(Father, Mother):\n",
    "    def sports(self):\n",
    "        print(\"I enjoy sports\")\n"
   ]
  },
  {
   "cell_type": "code",
   "execution_count": 48,
   "metadata": {},
   "outputs": [
    {
     "name": "stdout",
     "output_type": "stream",
     "text": [
      "I enjoy gardening\n",
      "I love cooking\n",
      "I enjoy sports\n"
     ]
    }
   ],
   "source": [
    "child = Child()\n",
    "\n",
    "# Child class can inherit methods from Father and Mother class\n",
    "child.gardening()\n",
    "child.cooking()\n",
    "child.sports()"
   ]
  },
  {
   "cell_type": "code",
   "execution_count": 50,
   "metadata": {},
   "outputs": [],
   "source": [
    "# in case of methods with a similar name ...\n",
    "\n",
    "class Father_skills():\n",
    "    def skills(self):\n",
    "        print(\"gardeing, programming\")\n",
    "\n",
    "class Mother_skills():\n",
    "    def skills(self):\n",
    "        print(\"teaching, cooking\")\n",
    "\n",
    "class Child_skills(Father, Mother):\n",
    "    def skills(self):\n",
    "        Father_skills.skills(self) # prints the skills under Father class\n",
    "        Mother_skills.skills(self) # prints the skills under Mother class\n",
    "        print(\"sports, sleeping\")\n"
   ]
  },
  {
   "cell_type": "code",
   "execution_count": 52,
   "metadata": {},
   "outputs": [
    {
     "name": "stdout",
     "output_type": "stream",
     "text": [
      "gardeing, programming\n",
      "teaching, cooking\n",
      "sports, sleeping\n"
     ]
    }
   ],
   "source": [
    "child_skills = Child_skills()\n",
    "\n",
    "# outputs \"skills\" within Father_skills, Mother_skills, Child_skills\n",
    "child_skills.skills()"
   ]
  },
  {
   "cell_type": "markdown",
   "metadata": {},
   "source": [
    ">#### Exception Handling\n",
    "\n",
    "**NOTE:** It's usually good practice to try to specify exceptions"
   ]
  },
  {
   "cell_type": "code",
   "execution_count": 65,
   "metadata": {},
   "outputs": [
    {
     "name": "stdout",
     "output_type": "stream",
     "text": [
      "Exception: Division by Zero\n",
      "Exception: Type Error\n"
     ]
    }
   ],
   "source": [
    "# Specific Exceptions\n",
    "\n",
    "def divide(x,y):\n",
    "    try:\n",
    "        quotient = x / y\n",
    "    \n",
    "    # division by 0\n",
    "    except ZeroDivisionError as e:\n",
    "        print('Exception: Division by Zero')\n",
    "        quotient = None\n",
    "    \n",
    "    # data type error\n",
    "    except TypeError as e:\n",
    "        print('Exception: Type Error')\n",
    "        quotient = None\n",
    "    \n",
    "    '''\n",
    "    To find out the type of exception, use:\n",
    "    except Exception as e:\n",
    "        print('Exception Type:', type(e).__name__)\n",
    "        quotient = None\n",
    "    '''\n",
    "    return quotient\n",
    "\n",
    "divide(1,0)     # throws division by 0 exception\n",
    "divide(\"1\",\"3\") # throws type error exception"
   ]
  },
  {
   "cell_type": "code",
   "execution_count": 71,
   "metadata": {},
   "outputs": [
    {
     "name": "stdout",
     "output_type": "stream",
     "text": [
      "Exception: MemoryError\n"
     ]
    }
   ],
   "source": [
    "# Raising python built-in exceptions\n",
    "try:\n",
    "    raise MemoryError('Exception: MemoryError')\n",
    "except MemoryError as e:\n",
    "    print(e)"
   ]
  },
  {
   "cell_type": "code",
   "execution_count": 75,
   "metadata": {},
   "outputs": [
    {
     "name": "stdout",
     "output_type": "stream",
     "text": [
      "User-defined Exception:  Accident Occured :(\n",
      "Take Detour !\n"
     ]
    }
   ],
   "source": [
    "# Creating your own exceptions\n",
    "class Accident(Exception): # inherit from base 'Exception' class\n",
    "    def __init__(self, msg):\n",
    "        self.msg = msg\n",
    "    \n",
    "    def print_exception(self):\n",
    "        print(\"User-defined Exception: \", self.msg)\n",
    "        print(\"Take Detour !\")\n",
    "\n",
    "try:\n",
    "    raise Accident('Accident Occured :(')\n",
    "except Accident as e:\n",
    "    e.print_exception()"
   ]
  },
  {
   "cell_type": "code",
   "execution_count": 78,
   "metadata": {},
   "outputs": [
    {
     "name": "stdout",
     "output_type": "stream",
     "text": [
      "Finally keyword executed !\n"
     ]
    },
    {
     "ename": "ZeroDivisionError",
     "evalue": "division by zero",
     "output_type": "error",
     "traceback": [
      "\u001b[1;31m---------------------------------------------------------------------------\u001b[0m",
      "\u001b[1;31mZeroDivisionError\u001b[0m                         Traceback (most recent call last)",
      "\u001b[1;32md:\\LearningResources\\python_oops.ipynb Cell 19\u001b[0m in \u001b[0;36m<cell line: 3>\u001b[1;34m()\u001b[0m\n\u001b[0;32m      <a href='vscode-notebook-cell:/d%3A/LearningResources/python_oops.ipynb#X31sZmlsZQ%3D%3D?line=0'>1</a>\u001b[0m \u001b[39m# using 'finally' keyword\u001b[39;00m\n\u001b[0;32m      <a href='vscode-notebook-cell:/d%3A/LearningResources/python_oops.ipynb#X31sZmlsZQ%3D%3D?line=2'>3</a>\u001b[0m \u001b[39mtry\u001b[39;00m:\n\u001b[1;32m----> <a href='vscode-notebook-cell:/d%3A/LearningResources/python_oops.ipynb#X31sZmlsZQ%3D%3D?line=3'>4</a>\u001b[0m     x\u001b[39m=\u001b[39m\u001b[39m1\u001b[39;49m\u001b[39m/\u001b[39;49m\u001b[39m0\u001b[39;49m\n\u001b[0;32m      <a href='vscode-notebook-cell:/d%3A/LearningResources/python_oops.ipynb#X31sZmlsZQ%3D%3D?line=4'>5</a>\u001b[0m \u001b[39mexcept\u001b[39;00m \u001b[39mFileNotFoundError\u001b[39;00m \u001b[39mas\u001b[39;00m e:\n\u001b[0;32m      <a href='vscode-notebook-cell:/d%3A/LearningResources/python_oops.ipynb#X31sZmlsZQ%3D%3D?line=5'>6</a>\u001b[0m     \u001b[39mprint\u001b[39m(e)\n",
      "\u001b[1;31mZeroDivisionError\u001b[0m: division by zero"
     ]
    }
   ],
   "source": [
    "# using 'finally' keyword\n",
    "\n",
    "try:\n",
    "    x=1/0\n",
    "except FileNotFoundError as e:\n",
    "    print(e)\n",
    "finally:\n",
    "    print(\"Finally keyword executed !\") # executed no matter what\n"
   ]
  },
  {
   "cell_type": "markdown",
   "metadata": {},
   "source": [
    ">#### Iterators"
   ]
  },
  {
   "cell_type": "code",
   "execution_count": 87,
   "metadata": {},
   "outputs": [],
   "source": [
    "# Eg: Implement a RemoteControl class that allows you to press \"next button\" to go to next channel\n",
    "\n",
    "class RemoteControl():\n",
    "    def __init__(self):\n",
    "        self.channels = [\"101\", \"102\", \"103\", \"104\", \"105\"]\n",
    "        self.index = -1 # no channel; TV is off\n",
    "    \n",
    "    def __iter__(self):\n",
    "        return self\n",
    "    \n",
    "    def __next__(self):\n",
    "        self.index += 1\n",
    "        if self.index == len(self.channels):\n",
    "            raise StopIteration\n",
    "        return self.channels[self.index]\n",
    "\n",
    "remote = RemoteControl()\n",
    "iterator_obj = iter(remote)"
   ]
  },
  {
   "cell_type": "code",
   "execution_count": 89,
   "metadata": {},
   "outputs": [
    {
     "name": "stdout",
     "output_type": "stream",
     "text": [
      "105\n"
     ]
    },
    {
     "ename": "StopIteration",
     "evalue": "",
     "output_type": "error",
     "traceback": [
      "\u001b[1;31m---------------------------------------------------------------------------\u001b[0m",
      "\u001b[1;31mStopIteration\u001b[0m                             Traceback (most recent call last)",
      "\u001b[1;32md:\\LearningResources\\python_oops.ipynb Cell 22\u001b[0m in \u001b[0;36m<cell line: 3>\u001b[1;34m()\u001b[0m\n\u001b[0;32m      <a href='vscode-notebook-cell:/d%3A/LearningResources/python_oops.ipynb#X34sZmlsZQ%3D%3D?line=0'>1</a>\u001b[0m \u001b[39m# instance created\u001b[39;00m\n\u001b[0;32m      <a href='vscode-notebook-cell:/d%3A/LearningResources/python_oops.ipynb#X34sZmlsZQ%3D%3D?line=1'>2</a>\u001b[0m \u001b[39mprint\u001b[39m(\u001b[39mnext\u001b[39m(iterator_obj))\n\u001b[1;32m----> <a href='vscode-notebook-cell:/d%3A/LearningResources/python_oops.ipynb#X34sZmlsZQ%3D%3D?line=2'>3</a>\u001b[0m \u001b[39mprint\u001b[39m(\u001b[39mnext\u001b[39;49m(iterator_obj))\n\u001b[0;32m      <a href='vscode-notebook-cell:/d%3A/LearningResources/python_oops.ipynb#X34sZmlsZQ%3D%3D?line=3'>4</a>\u001b[0m \u001b[39mprint\u001b[39m(\u001b[39mnext\u001b[39m(iterator_obj))\n\u001b[0;32m      <a href='vscode-notebook-cell:/d%3A/LearningResources/python_oops.ipynb#X34sZmlsZQ%3D%3D?line=4'>5</a>\u001b[0m \u001b[39mprint\u001b[39m(\u001b[39mnext\u001b[39m(iterator_obj))\n",
      "\u001b[1;32md:\\LearningResources\\python_oops.ipynb Cell 22\u001b[0m in \u001b[0;36mRemoteControl.__next__\u001b[1;34m(self)\u001b[0m\n\u001b[0;32m     <a href='vscode-notebook-cell:/d%3A/LearningResources/python_oops.ipynb#X34sZmlsZQ%3D%3D?line=11'>12</a>\u001b[0m \u001b[39mself\u001b[39m\u001b[39m.\u001b[39mindex \u001b[39m+\u001b[39m\u001b[39m=\u001b[39m \u001b[39m1\u001b[39m\n\u001b[0;32m     <a href='vscode-notebook-cell:/d%3A/LearningResources/python_oops.ipynb#X34sZmlsZQ%3D%3D?line=12'>13</a>\u001b[0m \u001b[39mif\u001b[39;00m \u001b[39mself\u001b[39m\u001b[39m.\u001b[39mindex \u001b[39m==\u001b[39m \u001b[39mlen\u001b[39m(\u001b[39mself\u001b[39m\u001b[39m.\u001b[39mchannels):\n\u001b[1;32m---> <a href='vscode-notebook-cell:/d%3A/LearningResources/python_oops.ipynb#X34sZmlsZQ%3D%3D?line=13'>14</a>\u001b[0m     \u001b[39mraise\u001b[39;00m \u001b[39mStopIteration\u001b[39;00m\n\u001b[0;32m     <a href='vscode-notebook-cell:/d%3A/LearningResources/python_oops.ipynb#X34sZmlsZQ%3D%3D?line=14'>15</a>\u001b[0m \u001b[39mreturn\u001b[39;00m \u001b[39mself\u001b[39m\u001b[39m.\u001b[39mchannels[\u001b[39mself\u001b[39m\u001b[39m.\u001b[39mindex]\n",
      "\u001b[1;31mStopIteration\u001b[0m: "
     ]
    }
   ],
   "source": [
    "# instance created\n",
    "print(next(iterator_obj))\n",
    "print(next(iterator_obj))\n",
    "print(next(iterator_obj))\n",
    "print(next(iterator_obj))\n",
    "print(next(iterator_obj))\n",
    "\n"
   ]
  },
  {
   "cell_type": "markdown",
   "metadata": {},
   "source": [
    ">#### Generator\n",
    "\n",
    "Simple way of creating an iterator\n",
    "\n",
    "Benefits of using generator over class based iterator:\n",
    "- Don't need to define `iter()` and `next()` methods\n",
    "- Don't need to raise `StopIteration` exception"
   ]
  },
  {
   "cell_type": "code",
   "execution_count": 96,
   "metadata": {},
   "outputs": [],
   "source": [
    "def next_channel():\n",
    "    yield \"101\" # yield preserves previous values and local variables of a function; return doesn't\n",
    "    yield \"102\"\n",
    "\n",
    "iterate_channel = next_channel()"
   ]
  },
  {
   "cell_type": "code",
   "execution_count": 100,
   "metadata": {},
   "outputs": [
    {
     "name": "stdout",
     "output_type": "stream",
     "text": [
      "101\n",
      "102\n"
     ]
    }
   ],
   "source": [
    "for channel in next_channel():\n",
    "    print(channel)"
   ]
  },
  {
   "cell_type": "code",
   "execution_count": 103,
   "metadata": {},
   "outputs": [
    {
     "name": "stdout",
     "output_type": "stream",
     "text": [
      "0\n",
      "1\n",
      "1\n",
      "2\n",
      "3\n",
      "5\n",
      "8\n",
      "13\n",
      "21\n",
      "34\n",
      "55\n",
      "89\n"
     ]
    }
   ],
   "source": [
    "# eg: create a fibonacci sequence using generators\n",
    "\n",
    "def fib():\n",
    "    first_num, second_num = 0, 1\n",
    "    while True:\n",
    "        yield first_num\n",
    "        first_num, second_num = second_num, second_num + first_num\n",
    "\n",
    "for f in fib():\n",
    "    if f > 100:\n",
    "        break\n",
    "    print(f)"
   ]
  },
  {
   "cell_type": "code",
   "execution_count": null,
   "metadata": {},
   "outputs": [],
   "source": []
  }
 ],
 "metadata": {
  "kernelspec": {
   "display_name": "Python 3.10.2 64-bit (system)",
   "language": "python",
   "name": "python3"
  },
  "language_info": {
   "codemirror_mode": {
    "name": "ipython",
    "version": 3
   },
   "file_extension": ".py",
   "mimetype": "text/x-python",
   "name": "python",
   "nbconvert_exporter": "python",
   "pygments_lexer": "ipython3",
   "version": "3.10.2"
  },
  "orig_nbformat": 4,
  "vscode": {
   "interpreter": {
    "hash": "5312a05d4c1062e7e99dc4a1327331a73c17135ec320657c0e8e8843948bfa85"
   }
  }
 },
 "nbformat": 4,
 "nbformat_minor": 2
}
