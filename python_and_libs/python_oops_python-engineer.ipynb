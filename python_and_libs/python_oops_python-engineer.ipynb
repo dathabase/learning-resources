{
 "cells": [
  {
   "cell_type": "markdown",
   "metadata": {},
   "source": [
    "# Object Oriented Programming (OOP) in Python (Python Engineer)\n",
    "---"
   ]
  },
  {
   "cell_type": "markdown",
   "metadata": {},
   "source": [
    "Ref: https://www.youtube.com/watch?v=-pEs-Bss8Wc&list=PLqnslRFeH2UrZtzqlXDWHjI3OV3BK0UWI"
   ]
  },
  {
   "cell_type": "code",
   "execution_count": 36,
   "metadata": {},
   "outputs": [],
   "source": [
    "# class\n",
    "class SoftwareEngineer:\n",
    "\n",
    "    # class attribute\n",
    "    alias = \"Keyboard Magician\"\n",
    "    \n",
    "    # intialising; constructor function\n",
    "    def __init__(self, name, age, position, salary):\n",
    "        # instance attributes\n",
    "        self.name = name\n",
    "        self.age = age\n",
    "        self.position = position\n",
    "        self.salary = salary\n",
    "\n",
    "    # instance method\n",
    "    def work(self, language):\n",
    "        print(f\"{self.name} is writing code in {language}...\")\n",
    "\n",
    "    # built-in method\n",
    "    def __str__(self):\n",
    "        # returns a string value\n",
    "        info = f\"Name: {self.name}\\nAge: {self.age}\\nPosition: {self.position}\"\n",
    "        return info\n",
    "\n",
    "    # built-in method\n",
    "    def __eq__(self, other):\n",
    "        # checks whether the two arguments are equal\n",
    "        return self.name == other.name and self.age == other.age\n",
    "    \n",
    "    @staticmethod\n",
    "    def salary_range(age):\n",
    "        if age < 20:\n",
    "            return 30000\n",
    "        elif age < 25:\n",
    "            return 40000\n",
    "        elif age < 30:\n",
    "            return 50000\n",
    "        return 100000"
   ]
  },
  {
   "cell_type": "markdown",
   "metadata": {},
   "source": [
    "> #### Class and Instance\n",
    "\n",
    "- Define a **class** => `class SoftwareEngineer` (convention first letter caps)\n",
    "\n",
    "- Class is a blueprint of a data structure\n",
    "\n",
    "- **Instance**: 'Calls' the class and supplies a certain set of parameters\n",
    "\n",
    "- **Instance attributes**: Defined in the `__init__(self)` function. Can only be called by the specific instance\n",
    "\n",
    "- **Class attributes**: Defined out of the methods, anywhere in the class blueprint. Can be called by the specific instance or the generic class"
   ]
  },
  {
   "cell_type": "code",
   "execution_count": 37,
   "metadata": {},
   "outputs": [
    {
     "name": "stdout",
     "output_type": "stream",
     "text": [
      "A 22 35000\n",
      "Keyboard Magician\n",
      "Keyboard Magician\n",
      "Keyboard Magician\n",
      "A is writing code in Python...\n",
      "B is writing code in Javascript...\n"
     ]
    }
   ],
   "source": [
    "# instance\n",
    "se1 = SoftwareEngineer(\"A\", 22, \"Junior\", 35000)\n",
    "se2 = SoftwareEngineer(\"B\", 35, \"Senior\", 60000)\n",
    "se3 = SoftwareEngineer(\"C\", 24, \"Mid\", 45000)\n",
    "\n",
    "# accessing instance attributes\n",
    "print(se1.name, se1.age, se1.salary)\n",
    "\n",
    "# accesing class attributes\n",
    "print(SoftwareEngineer.alias) \n",
    "print(se1.alias)\n",
    "print(se2.alias)\n",
    "\n",
    "# calling an instance method\n",
    "se1.work(\"Python\")\n",
    "se2.work(\"Javascript\")"
   ]
  },
  {
   "cell_type": "markdown",
   "metadata": {},
   "source": [
    "> #### Functions In Class\n",
    "\n",
    "- For each instance method i.e. function defined in the class, `self` keyword is a necessary parameter\n",
    "\n",
    "- Normal instance methods are supplied arguments and return specified values\n",
    "\n",
    "- The \"double-underscore\" methods (such as `__init__`, `__str__`) are already provided by Python\n",
    "\n",
    "- Decorators such as `@staticmethod` allow for user-defined methods to be callable by class as well as instance"
   ]
  },
  {
   "cell_type": "code",
   "execution_count": 39,
   "metadata": {},
   "outputs": [
    {
     "name": "stdout",
     "output_type": "stream",
     "text": [
      "A is writing code in Python...\n",
      "B is writing code in Javascript...\n",
      "Name: A\n",
      "Age: 22\n",
      "Position: Junior\n",
      "40000\n",
      "100000\n"
     ]
    }
   ],
   "source": [
    "# calling an instance method\n",
    "se1.work(\"Python\")\n",
    "se2.work(\"Javascript\")\n",
    "\n",
    "# __str__ built-in method\n",
    "print(se1)\n",
    "\n",
    "# user-defined functions\n",
    "print(se1.salary_range(22))               # accessed by an instance\n",
    "print(SoftwareEngineer.salary_range(80))  # accessed by a class\n"
   ]
  },
  {
   "cell_type": "markdown",
   "metadata": {},
   "source": [
    "> #### Inheritance\n",
    "\n",
    "- Inheritance: a new class (**child class**) inherits/extends/overides all the attributes and methods of another class (**parent class**)\n",
    "\n",
    "- Override: Use `super().__init__(attribute1, attribute2)` to reference & use the `__init__()` method from the parent class. Define a function with the same name as in the parent class, but it returns a different value or performs a different operation\n",
    "\n",
    "- Extension: Add parameters/initialisations/other functions to the child class (from where a particular method from the parent class was overrided)"
   ]
  },
  {
   "cell_type": "code",
   "execution_count": 65,
   "metadata": {},
   "outputs": [],
   "source": [
    "# base/parent class\n",
    "class Employee:\n",
    "    \n",
    "    def __init__(self, name, age, salary):\n",
    "        self.name = name\n",
    "        self.age = age\n",
    "        self.salary = salary\n",
    "    \n",
    "    def isworking(self):\n",
    "        print(f\"{self.name} is working...\")\n",
    "\n",
    "# child class\n",
    "class SoftwareEngineer(Employee):\n",
    "    \n",
    "    def __init__(self, name, age, salary, level):\n",
    "        super().__init__(name, age, salary) # refer to parent class\n",
    "        self.level = level\n",
    "\n",
    "    def isworking(self):\n",
    "        print(f\"{self.name} is coding...\")\n",
    "\n",
    "\n",
    "# child class\n",
    "class Designer(Employee):\n",
    "    \n",
    "    def isworking(self):\n",
    "        print(f\"{self.name} is drawing...\")"
   ]
  },
  {
   "cell_type": "code",
   "execution_count": 67,
   "metadata": {},
   "outputs": [
    {
     "name": "stdout",
     "output_type": "stream",
     "text": [
      "A 21 30000 Junior\n",
      "A is coding...\n",
      "B 30 50000\n",
      "B is drawing...\n"
     ]
    }
   ],
   "source": [
    "se = SoftwareEngineer(\"A\", 21, 30000, \"Junior\")\n",
    "print(se.name, se.age, se.salary, se.level) # inherits SoftwareEngineer's attributes\n",
    "se.isworking()         # inherits SoftwareEngineer's methods\n",
    "\n",
    "d = Designer(\"B\", 30, 50000)\n",
    "print(d.name, d.age, d.salary)   # inherits SoftwareEngineer's attributes\n",
    "d.isworking()        # inherits SoftwareEngineer's methods"
   ]
  },
  {
   "cell_type": "markdown",
   "metadata": {},
   "source": [
    "> #### Polymorphism\n",
    "\n",
    "- Way to use a child class exactly like its parent, but each child class keeps its own methods"
   ]
  },
  {
   "cell_type": "code",
   "execution_count": 68,
   "metadata": {},
   "outputs": [
    {
     "name": "stdout",
     "output_type": "stream",
     "text": [
      "B is coding...\n",
      "C is coding...\n",
      "D is drawing...\n",
      "E is drawing...\n"
     ]
    }
   ],
   "source": [
    "# list of employees\n",
    "\n",
    "employees = [SoftwareEngineer(\"B\", 30, 45000, \"Mid\"),\n",
    "            SoftwareEngineer(\"C\", 45, 80000, \"Senior\"),\n",
    "            Designer(\"D\", 21, 25000),\n",
    "            Designer(\"E\", 18, 30000)]\n",
    "\n",
    "\n",
    "def motivate_employee(employees):\n",
    "    for employee in employees:\n",
    "        employee.isworking()      # gets specific implementation of each child class\n",
    "\n",
    "motivate_employee(employees)"
   ]
  },
  {
   "cell_type": "markdown",
   "metadata": {},
   "source": [
    "> #### Encapsulation\n",
    "\n",
    "- Instance variables/methods are kept private thereby restricting access to public getter and setter methods. \n",
    "\n",
    "- For eg: `salary` and `num_codes_debugged` should be accessed only by HR and not by public. The \"getter\" and \"setter\" methods (i.e. `get_salary` and `set_salary`) are used to return and modify private instance attributes respectively\n",
    "\n",
    "- By convention, instance variables/methods are denoted by a single leading underscore i.e. `_salary` and `_calculate_salary`"
   ]
  },
  {
   "cell_type": "code",
   "execution_count": 80,
   "metadata": {},
   "outputs": [
    {
     "name": "stdout",
     "output_type": "stream",
     "text": [
      "A 32\n",
      "HR has set a base value of $30,000\n",
      "A has successfully solved 70 issues\n",
      "Therefore A should get $60,000\n"
     ]
    }
   ],
   "source": [
    "class SoftwareEngineer:\n",
    "    \n",
    "    def __init__(self, name, age):\n",
    "        self.name = name\n",
    "        self.age = age\n",
    "        \n",
    "        self._salary = 0               # private \n",
    "        self._num_codes_debugged = 0   # private\n",
    "    \n",
    "    # private method for HR to calculate salary\n",
    "    def _calculate_salary(self, base_value):\n",
    "        if self._num_codes_debugged < 10:\n",
    "            return base_value\n",
    "        elif self._num_codes_debugged >= 10 and self._num_codes_debugged < 100:\n",
    "            return base_value*2\n",
    "        else:\n",
    "            return base_value*3\n",
    "    \n",
    "    # setter function: used by HR to modify employee salary\n",
    "    def set_salary(self, base_value):\n",
    "        self._salary = self._calculate_salary(base_value)\n",
    "    \n",
    "    # getter function: used by HR to see employee salary\n",
    "    def get_salary(self):\n",
    "        return self._salary\n",
    "    \n",
    "    # increase code given to se\n",
    "    def code(self):\n",
    "        self._num_codes_debugged += 1\n",
    "    \n",
    "se = SoftwareEngineer(\"A\", 32)\n",
    "print(se.name, se.age)\n",
    "\n",
    "# create an instance of employee that completes a number of deguggings\n",
    "for i in range(70):\n",
    "    se.code()\n",
    "\n",
    "print(\"HR has set a base value of $30,000\")\n",
    "se.set_salary(30000)\n",
    "print(f\"{se.name} has successfully solved {se._num_codes_debugged} issues\")\n",
    "print(f\"Therefore {se.name} should get ${se.get_salary():,}\")"
   ]
  },
  {
   "cell_type": "markdown",
   "metadata": {},
   "source": [
    "> #### Properties\n",
    "\n",
    "Use of the `@property` decorator to create a more \"pythonic\" way of implementing the operation of \"getter\" and \"setter\" methods without actually using them"
   ]
  },
  {
   "cell_type": "code",
   "execution_count": 88,
   "metadata": {},
   "outputs": [
    {
     "name": "stdout",
     "output_type": "stream",
     "text": [
      "60000\n"
     ]
    }
   ],
   "source": [
    "class SoftwareEngineer:\n",
    "    \n",
    "    def __init__(self):\n",
    "        self._salary = 0\n",
    "    \n",
    "    @property\n",
    "    def salary(self):\n",
    "        return self._salary\n",
    "    \n",
    "    # modifying salary\n",
    "    @salary.setter\n",
    "    def salary(self, value):\n",
    "        self._salary = value\n",
    "    \n",
    "    # deleting salary\n",
    "    @salary.deleter\n",
    "    def salary(self):\n",
    "        del self._salary\n",
    "\n",
    "se = SoftwareEngineer()\n",
    "se.salary = 60000\n",
    "print(se.salary)\n",
    "# del se.salary\n",
    "# print(se.salary)\n"
   ]
  },
  {
   "cell_type": "markdown",
   "metadata": {},
   "source": [
    "> #### Recap"
   ]
  },
  {
   "cell_type": "markdown",
   "metadata": {},
   "source": []
  }
 ],
 "metadata": {
  "kernelspec": {
   "display_name": "Python 3.10.2 64-bit (system)",
   "language": "python",
   "name": "python3"
  },
  "language_info": {
   "codemirror_mode": {
    "name": "ipython",
    "version": 3
   },
   "file_extension": ".py",
   "mimetype": "text/x-python",
   "name": "python",
   "nbconvert_exporter": "python",
   "pygments_lexer": "ipython3",
   "version": "3.10.2"
  },
  "orig_nbformat": 4,
  "vscode": {
   "interpreter": {
    "hash": "5312a05d4c1062e7e99dc4a1327331a73c17135ec320657c0e8e8843948bfa85"
   }
  }
 },
 "nbformat": 4,
 "nbformat_minor": 2
}
