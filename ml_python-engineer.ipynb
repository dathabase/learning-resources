{
 "cells": [
  {
   "cell_type": "markdown",
   "metadata": {},
   "source": [
    "# Machine Learning From Scratch (12 Algos, 5 hours)\n",
    "---"
   ]
  },
  {
   "cell_type": "markdown",
   "metadata": {},
   "source": [
    "Ref: https://www.youtube.com/watch?v=rLOyrWV8gmA"
   ]
  },
  {
   "cell_type": "markdown",
   "metadata": {},
   "source": [
    "**Algorithm List:**\n",
    "1. [KNN](####KNN) (K's Nearest Neighbours)\n",
    "2. [Linear Regression](####Linear-Regression)\n",
    "3. [Logistic Regression](####Logistic-Regression)\n",
    "4. [Naive Bayes](####Naive-Bayes)\n",
    "5. [Perceptron](####Perceptron)\n",
    "6. [SVM](####SVM) (Support Vector Machines)\n",
    "7. [Decision Tree](####Decision-Tree)\n",
    "8. [Random Forest](####Random-Forest)\n",
    "9. [PCA](####PCA) (Principal Component Analysis)\n",
    "10. [K-Means](####K-Means)\n",
    "11. [AdaBoost](####AdaBoost)\n",
    "12. [LDA](####LDA) (Linear Discriminant Analysis)"
   ]
  },
  {
   "cell_type": "markdown",
   "metadata": {},
   "source": [
    "> #### KNN\n",
    "\n",
    "- A sample is classified based upon its proximity with data points in separate classes. The sample is then labelled with the most common class of its nearest neighbours\n",
    "\n",
    "- Euclidean Distance is used... \n",
    "    - For 2D: $d = \\sqrt{{x_2 - x_1}^2 + {y_2 - y_1}^2}$\n",
    "    - For n dimensions: $\\sqrt {\\sum_{n=1}^{\\infty} {(q_i - p_i)}^2}$"
   ]
  },
  {
   "cell_type": "code",
   "execution_count": 3,
   "metadata": {},
   "outputs": [],
   "source": [
    "class KNN:\n",
    "    '''Attributes:\n",
    "    k = number of nearest neighbours to consider (default=3),\n",
    "    X = input data\n",
    "    y = output data\n",
    "    '''\n",
    "    def __init__(self, k=3):\n",
    "        self.k = k\n",
    "    \n",
    "    # to fit the training samples\n",
    "    def fit(self, X, y):\n",
    "        pass\n",
    "\n",
    "    def predict(self, X):\n",
    "        pass\n"
   ]
  },
  {
   "cell_type": "markdown",
   "metadata": {},
   "source": [
    "> #### Linear Regression"
   ]
  },
  {
   "cell_type": "code",
   "execution_count": null,
   "metadata": {},
   "outputs": [],
   "source": []
  },
  {
   "cell_type": "markdown",
   "metadata": {},
   "source": [
    "> #### Logistic Regression"
   ]
  },
  {
   "cell_type": "code",
   "execution_count": null,
   "metadata": {},
   "outputs": [],
   "source": []
  },
  {
   "cell_type": "markdown",
   "metadata": {},
   "source": [
    "> #### Naive Bayes"
   ]
  },
  {
   "cell_type": "code",
   "execution_count": null,
   "metadata": {},
   "outputs": [],
   "source": []
  },
  {
   "cell_type": "markdown",
   "metadata": {},
   "source": []
  },
  {
   "cell_type": "markdown",
   "metadata": {},
   "source": []
  }
 ],
 "metadata": {
  "kernelspec": {
   "display_name": "Python 3.10.2 64-bit (system)",
   "language": "python",
   "name": "python3"
  },
  "language_info": {
   "codemirror_mode": {
    "name": "ipython",
    "version": 3
   },
   "file_extension": ".py",
   "mimetype": "text/x-python",
   "name": "python",
   "nbconvert_exporter": "python",
   "pygments_lexer": "ipython3",
   "version": "3.10.2"
  },
  "orig_nbformat": 4,
  "vscode": {
   "interpreter": {
    "hash": "5312a05d4c1062e7e99dc4a1327331a73c17135ec320657c0e8e8843948bfa85"
   }
  }
 },
 "nbformat": 4,
 "nbformat_minor": 2
}
